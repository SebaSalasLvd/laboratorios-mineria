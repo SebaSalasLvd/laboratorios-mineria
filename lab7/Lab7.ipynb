{
 "cells": [
  {
   "cell_type": "markdown",
   "metadata": {
    "id": "p_XcuC2rXQWb",
    "pycharm": {}
   },
   "source": [
    "# Laboratorio 6: Selección de Atributos"
   ]
  },
  {
   "cell_type": "markdown",
   "metadata": {
    "id": "SHpR6V832KCZ"
   },
   "source": [
    "Integrantes: **José Canales y Sebastián Salas** ambos sección 1"
   ]
  },
  {
   "cell_type": "markdown",
   "metadata": {
    "heading_collapsed": true,
    "id": "bxEPucKhXQWg",
    "pycharm": {}
   },
   "source": [
    "# Instrucciones\n",
    "\n",
    "\n",
    "1. Trabajen en equipos de dos personas.\n",
    "\n",
    "2. Modifique este archivo `.ipynb` agregando sus respuestas donde corresponda.\n",
    "\n",
    "3. El formato de entrega para esta actividad es un archivo html, **no se revisarán entregas en otro formato**. Genere un archivo HTML y súbalo a U-Cursos. Basta con que uno de los integrantes haga la entrega. Si ambos hacen una entrega en U-Cursos, se revisará cualquiera de éstas."
   ]
  },
  {
   "cell_type": "markdown",
   "metadata": {
    "id": "ufdIfPp-mFOn"
   },
   "source": [
    "# Datos"
   ]
  },
  {
   "cell_type": "code",
   "metadata": {
    "id": "BEZRMAR-jnQo",
    "ExecuteTime": {
     "end_time": "2025-06-11T02:58:00.598040Z",
     "start_time": "2025-06-11T02:57:59.769201Z"
    }
   },
   "source": [
    "import pandas as pd\n",
    "import numpy as np\n",
    "import matplotlib.pyplot as plt\n",
    "import seaborn as sns\n",
    "\n",
    "from sklearn.datasets import load_digits\n",
    "\n",
    "X, y = load_digits(return_X_y=True)"
   ],
   "outputs": [],
   "execution_count": 1
  },
  {
   "cell_type": "code",
   "metadata": {
    "colab": {
     "base_uri": "https://localhost:8080/"
    },
    "executionInfo": {
     "elapsed": 507,
     "status": "ok",
     "timestamp": 1729371841614,
     "user": {
      "displayName": "Benjamín Farías",
      "userId": "04005724800837770137"
     },
     "user_tz": 180
    },
    "id": "cvuIeUvRkgIM",
    "outputId": "e59c54fc-516e-487b-9855-8cddae815889",
    "ExecuteTime": {
     "end_time": "2025-06-11T02:58:00.695616Z",
     "start_time": "2025-06-11T02:58:00.682873Z"
    }
   },
   "source": [
    "X.shape"
   ],
   "outputs": [
    {
     "data": {
      "text/plain": [
       "(1797, 64)"
      ]
     },
     "execution_count": 2,
     "metadata": {},
     "output_type": "execute_result"
    }
   ],
   "execution_count": 2
  },
  {
   "cell_type": "code",
   "metadata": {
    "colab": {
     "base_uri": "https://localhost:8080/"
    },
    "executionInfo": {
     "elapsed": 353,
     "status": "ok",
     "timestamp": 1729371543775,
     "user": {
      "displayName": "Benjamín Farías",
      "userId": "04005724800837770137"
     },
     "user_tz": 180
    },
    "id": "gSNWYd1XkjKL",
    "outputId": "71839684-66cb-4fa4-bb94-286104ebf055",
    "ExecuteTime": {
     "end_time": "2025-06-11T02:58:00.860253Z",
     "start_time": "2025-06-11T02:58:00.838322Z"
    }
   },
   "source": [
    "np.unique(y, return_counts=True)"
   ],
   "outputs": [
    {
     "data": {
      "text/plain": [
       "(array([0, 1, 2, 3, 4, 5, 6, 7, 8, 9]),\n",
       " array([178, 182, 177, 183, 181, 182, 181, 179, 174, 180]))"
      ]
     },
     "execution_count": 3,
     "metadata": {},
     "output_type": "execute_result"
    }
   ],
   "execution_count": 3
  },
  {
   "cell_type": "markdown",
   "metadata": {
    "id": "CQZ03diSmJi6"
   },
   "source": [
    "# Análisis Exploratorio"
   ]
  },
  {
   "cell_type": "markdown",
   "metadata": {
    "id": "C0NcRBVWrrkW"
   },
   "source": [
    "**P0** - Para cada parte de esta sección, responda adicionalmente las siguientes preguntas:\n",
    "1. ¿Qué puede decir de los datos a partir de estos reusultados?\n",
    "2. ¿Considera que hay que remover alguna columna?\n",
    "\n",
    "Si la respuesta de la segunda pregunta es afirmativa, elimine esas columnas. Guarde cada modificación que haga sobre los datos en una nueva variable `X2` y mantenga `X` sin modificar."
   ]
  },
  {
   "cell_type": "markdown",
   "metadata": {
    "id": "HdOPgMRjmugA"
   },
   "source": [
    "**P1** - Determine la proporción de los datos que es igual a $0$ y si existen columnas que sólo contienen este valor."
   ]
  },
  {
   "cell_type": "code",
   "metadata": {
    "id": "ENz4RQtHngEP",
    "ExecuteTime": {
     "end_time": "2025-06-11T02:58:01.702293Z",
     "start_time": "2025-06-11T02:58:01.687083Z"
    }
   },
   "source": [
    "df_X = pd.DataFrame(X)\n",
    "\n",
    "proporcion = (df_X == 0).sum().sum() / df_X.size * 100\n",
    "print(f\"Proporción de ceros en X: {int(proporcion)}% \\n\")\n",
    "\n",
    "columnas_cero = (df_X == 0).all()\n",
    "indices = columnas_cero[columnas_cero].index\n",
    "print(f\"Columnas solo con ceros: {list(indices)}\")"
   ],
   "outputs": [
    {
     "name": "stdout",
     "output_type": "stream",
     "text": [
      "Proporción de ceros en X: 48% \n",
      "\n",
      "Columnas solo con ceros: [0, 32, 39]\n"
     ]
    }
   ],
   "execution_count": 4
  },
  {
   "cell_type": "markdown",
   "metadata": {
    "id": "mu8qGaP1qiZb"
   },
   "source": [
    "\n",
    "1. ¿Qué puede decir de los datos a partir de estos reusultados?\n",
    "**Respuesta:** podemos decir que un alto porcentaje de los datos es nulo, cercano a la mitad.\n",
    "2. ¿Considera que hay que remover alguna columna?\n",
    "**Respuesta:** sí, podemos eliminar las columnas con cero ya que no aportan información."
   ]
  },
  {
   "cell_type": "code",
   "metadata": {
    "id": "xU1DZEy0uZng",
    "ExecuteTime": {
     "end_time": "2025-06-11T02:58:01.755892Z",
     "start_time": "2025-06-11T02:58:01.740857Z"
    }
   },
   "source": [
    "df_X_clean = df_X.drop(columns=indices)\n",
    "\n",
    "X2 = df_X_clean.values\n",
    "\n",
    "df_X = pd.DataFrame(X2)\n",
    "columnas_cero = (df_X == 0).all()\n",
    "indices = columnas_cero[columnas_cero].index\n",
    "print(f\"Columnas solo con ceros: {list(indices)}\")"
   ],
   "outputs": [
    {
     "name": "stdout",
     "output_type": "stream",
     "text": [
      "Columnas solo con ceros: []\n"
     ]
    }
   ],
   "execution_count": 5
  },
  {
   "cell_type": "markdown",
   "metadata": {
    "id": "oa7QUkGoq255"
   },
   "source": [
    "**P2** - Visualize la matriz de correlación para `X2`. Dada la cantidad de columnas, puede ser útil visualizar también la matriz son subconjuntos más pequeños para un análisis más preciso."
   ]
  },
  {
   "cell_type": "code",
   "metadata": {
    "id": "lXVlcbetmPf3",
    "ExecuteTime": {
     "end_time": "2025-06-11T02:58:02.404312Z",
     "start_time": "2025-06-11T02:58:01.983992Z"
    }
   },
   "source": [
    "corr_matrix = df_X.corr()\n",
    "\n",
    "plt.figure(figsize=(10, 8))\n",
    "plt.matshow(corr_matrix, cmap='coolwarm')\n",
    "plt.colorbar()\n",
    "plt.title(\"Matriz de correlación\")\n",
    "plt.show()\n",
    "\n",
    "\n",
    "corr_matrix = corr_matrix.abs()\n",
    "threshold = 0.8\n",
    "cols_to_drop = []\n",
    "\n",
    "for i in range(len(corr_matrix.columns)):\n",
    "    for j in range(i):\n",
    "        if corr_matrix.iloc[i, j] > threshold:\n",
    "            colname = corr_matrix.columns[i]\n",
    "            if colname not in cols_to_drop:\n",
    "                cols_to_drop.append(colname)\n",
    "\n",
    "print(f\"Columnas con alta correlación: {cols_to_drop}\")"
   ],
   "outputs": [
    {
     "data": {
      "text/plain": [
       "<Figure size 1000x800 with 0 Axes>"
      ]
     },
     "metadata": {},
     "output_type": "display_data"
    },
    {
     "data": {
      "text/plain": [
       "<Figure size 480x480 with 2 Axes>"
      ],
      "image/png": "[encoded data removed]"
     },
     "metadata": {},
     "output_type": "display_data"
    },
    {
     "name": "stdout",
     "output_type": "stream",
     "text": [
      "Columnas con alta correlación: [54, 55]\n"
     ]
    }
   ],
   "execution_count": 6
  },
  {
   "cell_type": "markdown",
   "metadata": {
    "id": "fyOGPYec8PdL"
   },
   "source": [
    "1. ¿Qué puede decir de los datos a partir de estos reusultados?\n",
    "**Respuesta:** podemos eliminar, las columnas dadas por su alta correlación, en este caso especificamos un treshold de 0.8.\n",
    "2. ¿Considera que hay que remover alguna columna?\n",
    "**Respuesta:** sí, podemos eliminar las columnas con demasiada correlación."
   ]
  },
  {
   "cell_type": "code",
   "metadata": {
    "id": "0lYo562i73qc",
    "ExecuteTime": {
     "end_time": "2025-06-11T02:58:02.791249Z",
     "start_time": "2025-06-11T02:58:02.460195Z"
    }
   },
   "source": [
    "df_X_clean = df_X.drop(columns=cols_to_drop)\n",
    "\n",
    "X2 = df_X_clean.values\n",
    "\n",
    "df_X = pd.DataFrame(X2)\n",
    "corr_matrix = df_X.corr()\n",
    "\n",
    "plt.figure(figsize=(10, 8))\n",
    "plt.matshow(corr_matrix, cmap='coolwarm')\n",
    "plt.colorbar()\n",
    "plt.title(\"Matriz de correlación\")\n",
    "plt.show()\n",
    "\n"
   ],
   "outputs": [
    {
     "data": {
      "text/plain": [
       "<Figure size 1000x800 with 0 Axes>"
      ]
     },
     "metadata": {},
     "output_type": "display_data"
    },
    {
     "data": {
      "text/plain": [
       "<Figure size 480x480 with 2 Axes>"
      ],
      "image/png": "[encoded data removed]"
     },
     "metadata": {},
     "output_type": "display_data"
    }
   ],
   "execution_count": 7
  },
  {
   "cell_type": "markdown",
   "metadata": {
    "id": "XttWLw7LP4Nl"
   },
   "source": [
    "**P3** - Calcule la varianza de los datos."
   ]
  },
  {
   "metadata": {
    "id": "dYPODt_XD6vQ",
    "ExecuteTime": {
     "end_time": "2025-06-11T02:58:02.866502Z",
     "start_time": "2025-06-11T02:58:02.862090Z"
    }
   },
   "cell_type": "code",
   "outputs": [],
   "source": "",
   "execution_count": null
  },
  {
   "cell_type": "markdown",
   "metadata": {
    "id": "7WT59P6NSCEc"
   },
   "source": [
    "**Respuesta:**"
   ]
  },
  {
   "cell_type": "code",
   "metadata": {
    "id": "ZW2fM14uR9RC",
    "ExecuteTime": {
     "end_time": "2025-06-11T03:19:57.302618Z",
     "start_time": "2025-06-11T03:19:57.276342Z"
    }
   },
   "source": [
    "from sklearn.feature_selection import VarianceThreshold\n",
    "\n",
    "# Aplicar el umbral de varianza. Por defecto, elimina columnas con varianza = 0.\n",
    "selector = VarianceThreshold(threshold=0.0)\n",
    "X2 = selector.fit_transform(df_X)\n",
    "\n",
    "# Obtener la varianza de cada columna antes de filtrar\n",
    "variancias = selector.variances_\n",
    "print(\"Varianzas de las características:\")\n",
    "print(variancias)\n",
    "\n"
   ],
   "outputs": [
    {
     "name": "stdout",
     "output_type": "stream",
     "text": [
      "Varianzas de las características:\n",
      "[8.22539514e-01 1.60000000e+01 1.60000000e+01 1.60000000e+01\n",
      " 1.60000000e+01 1.10546255e+01 1.07556433e+00 8.87276110e-03\n",
      " 1.02097566e+01 1.60000000e+01 1.58120413e+01 1.60000000e+01\n",
      " 1.60000000e+01 1.28545405e+01 6.85061884e-01 3.88763936e-03\n",
      " 1.27828134e+01 1.60000000e+01 1.60000000e+01 1.60000000e+01\n",
      " 1.60000000e+01 1.06208369e+01 1.92260705e-01 1.11172736e-03\n",
      " 9.89515699e+00 1.60000000e+01 1.60000000e+01 1.60000000e+01\n",
      " 1.60000000e+01 1.35823949e+01 2.22097734e-03 1.21062508e+01\n",
      " 1.60000000e+01 1.60000000e+01 1.60000000e+01 1.60000000e+01\n",
      " 1.25054061e+01 2.10670787e-02 8.88628020e+00 1.60000000e+01\n",
      " 1.60000000e+01 1.60000000e+01 1.60000000e+01 1.60000000e+01\n",
      " 9.44150719e-02 4.16838922e-02 3.04735308e+00 1.60000000e+01\n",
      " 1.60000000e+01 1.60000000e+01 1.60000000e+01 1.60000000e+01\n",
      " 9.68505910e-01 5.56173354e-04 1.60000000e+01 1.60000000e+01\n",
      " 1.60000000e+01 1.60000000e+01 3.45812736e+00]\n",
      "\n",
      "Número de características antes: 59\n",
      "Número de características después: 59\n"
     ]
    }
   ],
   "execution_count": 14
  },
  {
   "cell_type": "markdown",
   "metadata": {
    "id": "eT_bLOFdXycQ"
   },
   "source": [
    "# Selección de Atributos"
   ]
  },
  {
   "cell_type": "code",
   "metadata": {
    "id": "dIOwbWStX3cH",
    "ExecuteTime": {
     "end_time": "2025-06-11T02:58:04.023580Z",
     "start_time": "2025-06-11T02:58:04.018238Z"
    }
   },
   "source": [
    "from sklearn.feature_selection import SelectFromModel\n",
    "from sklearn.feature_selection import SelectKBest, mutual_info_classif\n",
    "from sklearn.model_selection import train_test_split"
   ],
   "outputs": [],
   "execution_count": 9
  },
  {
   "cell_type": "code",
   "metadata": {
    "id": "vjG7enahaBP8",
    "ExecuteTime": {
     "end_time": "2025-06-11T02:58:04.106754Z",
     "start_time": "2025-06-11T02:58:04.093916Z"
    }
   },
   "source": [
    "X_train, X_test, y_train, y_test = train_test_split(X, y, test_size=0.3, stratify=y, random_state=0)"
   ],
   "outputs": [],
   "execution_count": 10
  },
  {
   "cell_type": "markdown",
   "metadata": {
    "id": "FkUO01FpizAG"
   },
   "source": [
    "**P4** - Selecciones las 30 mejores columnas según el criterio de información mutua."
   ]
  },
  {
   "cell_type": "code",
   "metadata": {
    "id": "eAm5LjSvYNDt",
    "ExecuteTime": {
     "end_time": "2025-06-11T02:58:04.192739Z",
     "start_time": "2025-06-11T02:58:04.187740Z"
    }
   },
   "source": [
    "\n",
    "X3_train = ...\n",
    "X3_test = ..."
   ],
   "outputs": [],
   "execution_count": 11
  },
  {
   "cell_type": "markdown",
   "metadata": {
    "id": "SEGqTmu0jYJc"
   },
   "source": [
    "**P5** - Seleccione las columnas más útiles según los resultados de un árbol de clasificación. Seleccione un máximo de 30."
   ]
  },
  {
   "cell_type": "code",
   "metadata": {
    "id": "SnKBYn1mcAIz",
    "ExecuteTime": {
     "end_time": "2025-06-11T02:58:04.473669Z",
     "start_time": "2025-06-11T02:58:04.280998Z"
    }
   },
   "source": [
    "from sklearn.tree import DecisionTreeClassifier\n",
    "\n",
    "\n",
    "X4_train = ...\n",
    "X4_test = ..."
   ],
   "outputs": [],
   "execution_count": 12
  },
  {
   "cell_type": "markdown",
   "metadata": {
    "id": "tJvRHv35mPxH"
   },
   "source": [
    "# Clasificación"
   ]
  },
  {
   "cell_type": "markdown",
   "metadata": {
    "id": "_sM_JNZy3-6c"
   },
   "source": [
    "**P6** - Entrene y evalue un clasificador SVC para el dataset sin reducir y cada una de las reducciones hechas en las preguntas anteriores. Para cada caso mida el tiempo de entrenamiento y grafique la matriz de confusión, luego compare y comente los resultados."
   ]
  },
  {
   "cell_type": "code",
   "metadata": {
    "id": "oTHaRE-We35-",
    "ExecuteTime": {
     "end_time": "2025-06-11T02:58:05.614184Z",
     "start_time": "2025-06-11T02:58:04.547878Z"
    }
   },
   "source": [
    "from sklearn.svm import SVC\n",
    "from sklearn.metrics import confusion_matrix\n",
    "\n",
    "import timeit\n",
    "\n",
    "X2_train, X2_test, y_train, y_test = train_test_split(X2, y, test_size=0.3, stratify=y, random_state=0)\n",
    "\n",
    "def plot_confusion_matrix(true_label, pred_label):\n",
    "    mat = confusion_matrix(true_label, pred_label)\n",
    "\n",
    "    fig, ax = plt.subplots()\n",
    "\n",
    "    ax = sns.heatmap(mat, annot=True, cmap='Reds')\n",
    "    ax.set_ylabel(\"True Label\")\n",
    "    ax.set_xlabel(\"Predicted Label\")\n",
    "\n",
    "    plt.show()"
   ],
   "outputs": [
    {
     "ename": "TypeError",
     "evalue": "Input should have at least 1 dimension i.e. satisfy `len(x.shape) > 0`, got scalar `array(Ellipsis, dtype=object)` instead.",
     "output_type": "error",
     "traceback": [
      "\u001B[31m---------------------------------------------------------------------------\u001B[39m",
      "\u001B[31mTypeError\u001B[39m                                 Traceback (most recent call last)",
      "\u001B[36mCell\u001B[39m\u001B[36m \u001B[39m\u001B[32mIn[13]\u001B[39m\u001B[32m, line 6\u001B[39m\n\u001B[32m      2\u001B[39m \u001B[38;5;28;01mfrom\u001B[39;00m\u001B[38;5;250m \u001B[39m\u001B[34;01msklearn\u001B[39;00m\u001B[34;01m.\u001B[39;00m\u001B[34;01mmetrics\u001B[39;00m\u001B[38;5;250m \u001B[39m\u001B[38;5;28;01mimport\u001B[39;00m confusion_matrix\n\u001B[32m      4\u001B[39m \u001B[38;5;28;01mimport\u001B[39;00m\u001B[38;5;250m \u001B[39m\u001B[34;01mtimeit\u001B[39;00m\n\u001B[32m----> \u001B[39m\u001B[32m6\u001B[39m X2_train, X2_test, y_train, y_test = \u001B[43mtrain_test_split\u001B[49m\u001B[43m(\u001B[49m\u001B[43mX2\u001B[49m\u001B[43m,\u001B[49m\u001B[43m \u001B[49m\u001B[43my\u001B[49m\u001B[43m,\u001B[49m\u001B[43m \u001B[49m\u001B[43mtest_size\u001B[49m\u001B[43m=\u001B[49m\u001B[32;43m0.3\u001B[39;49m\u001B[43m,\u001B[49m\u001B[43m \u001B[49m\u001B[43mstratify\u001B[49m\u001B[43m=\u001B[49m\u001B[43my\u001B[49m\u001B[43m,\u001B[49m\u001B[43m \u001B[49m\u001B[43mrandom_state\u001B[49m\u001B[43m=\u001B[49m\u001B[32;43m0\u001B[39;49m\u001B[43m)\u001B[49m\n\u001B[32m      8\u001B[39m \u001B[38;5;28;01mdef\u001B[39;00m\u001B[38;5;250m \u001B[39m\u001B[34mplot_confusion_matrix\u001B[39m(true_label, pred_label):\n\u001B[32m      9\u001B[39m     mat = confusion_matrix(true_label, pred_label)\n",
      "\u001B[36mFile \u001B[39m\u001B[32m~\\Desktop\\mineria\\laboratorios-mineria\\min-venv\\Lib\\site-packages\\sklearn\\utils\\_param_validation.py:216\u001B[39m, in \u001B[36mvalidate_params.<locals>.decorator.<locals>.wrapper\u001B[39m\u001B[34m(*args, **kwargs)\u001B[39m\n\u001B[32m    210\u001B[39m \u001B[38;5;28;01mtry\u001B[39;00m:\n\u001B[32m    211\u001B[39m     \u001B[38;5;28;01mwith\u001B[39;00m config_context(\n\u001B[32m    212\u001B[39m         skip_parameter_validation=(\n\u001B[32m    213\u001B[39m             prefer_skip_nested_validation \u001B[38;5;129;01mor\u001B[39;00m global_skip_validation\n\u001B[32m    214\u001B[39m         )\n\u001B[32m    215\u001B[39m     ):\n\u001B[32m--> \u001B[39m\u001B[32m216\u001B[39m         \u001B[38;5;28;01mreturn\u001B[39;00m \u001B[43mfunc\u001B[49m\u001B[43m(\u001B[49m\u001B[43m*\u001B[49m\u001B[43margs\u001B[49m\u001B[43m,\u001B[49m\u001B[43m \u001B[49m\u001B[43m*\u001B[49m\u001B[43m*\u001B[49m\u001B[43mkwargs\u001B[49m\u001B[43m)\u001B[49m\n\u001B[32m    217\u001B[39m \u001B[38;5;28;01mexcept\u001B[39;00m InvalidParameterError \u001B[38;5;28;01mas\u001B[39;00m e:\n\u001B[32m    218\u001B[39m     \u001B[38;5;66;03m# When the function is just a wrapper around an estimator, we allow\u001B[39;00m\n\u001B[32m    219\u001B[39m     \u001B[38;5;66;03m# the function to delegate validation to the estimator, but we replace\u001B[39;00m\n\u001B[32m    220\u001B[39m     \u001B[38;5;66;03m# the name of the estimator by the name of the function in the error\u001B[39;00m\n\u001B[32m    221\u001B[39m     \u001B[38;5;66;03m# message to avoid confusion.\u001B[39;00m\n\u001B[32m    222\u001B[39m     msg = re.sub(\n\u001B[32m    223\u001B[39m         \u001B[33mr\u001B[39m\u001B[33m\"\u001B[39m\u001B[33mparameter of \u001B[39m\u001B[33m\\\u001B[39m\u001B[33mw+ must be\u001B[39m\u001B[33m\"\u001B[39m,\n\u001B[32m    224\u001B[39m         \u001B[33mf\u001B[39m\u001B[33m\"\u001B[39m\u001B[33mparameter of \u001B[39m\u001B[38;5;132;01m{\u001B[39;00mfunc.\u001B[34m__qualname__\u001B[39m\u001B[38;5;132;01m}\u001B[39;00m\u001B[33m must be\u001B[39m\u001B[33m\"\u001B[39m,\n\u001B[32m    225\u001B[39m         \u001B[38;5;28mstr\u001B[39m(e),\n\u001B[32m    226\u001B[39m     )\n",
      "\u001B[36mFile \u001B[39m\u001B[32m~\\Desktop\\mineria\\laboratorios-mineria\\min-venv\\Lib\\site-packages\\sklearn\\model_selection\\_split.py:2848\u001B[39m, in \u001B[36mtrain_test_split\u001B[39m\u001B[34m(test_size, train_size, random_state, shuffle, stratify, *arrays)\u001B[39m\n\u001B[32m   2845\u001B[39m \u001B[38;5;28;01mif\u001B[39;00m n_arrays == \u001B[32m0\u001B[39m:\n\u001B[32m   2846\u001B[39m     \u001B[38;5;28;01mraise\u001B[39;00m \u001B[38;5;167;01mValueError\u001B[39;00m(\u001B[33m\"\u001B[39m\u001B[33mAt least one array required as input\u001B[39m\u001B[33m\"\u001B[39m)\n\u001B[32m-> \u001B[39m\u001B[32m2848\u001B[39m arrays = \u001B[43mindexable\u001B[49m\u001B[43m(\u001B[49m\u001B[43m*\u001B[49m\u001B[43marrays\u001B[49m\u001B[43m)\u001B[49m\n\u001B[32m   2850\u001B[39m n_samples = _num_samples(arrays[\u001B[32m0\u001B[39m])\n\u001B[32m   2851\u001B[39m n_train, n_test = _validate_shuffle_split(\n\u001B[32m   2852\u001B[39m     n_samples, test_size, train_size, default_test_size=\u001B[32m0.25\u001B[39m\n\u001B[32m   2853\u001B[39m )\n",
      "\u001B[36mFile \u001B[39m\u001B[32m~\\Desktop\\mineria\\laboratorios-mineria\\min-venv\\Lib\\site-packages\\sklearn\\utils\\validation.py:532\u001B[39m, in \u001B[36mindexable\u001B[39m\u001B[34m(*iterables)\u001B[39m\n\u001B[32m    502\u001B[39m \u001B[38;5;250m\u001B[39m\u001B[33;03m\"\"\"Make arrays indexable for cross-validation.\u001B[39;00m\n\u001B[32m    503\u001B[39m \n\u001B[32m    504\u001B[39m \u001B[33;03mChecks consistent length, passes through None, and ensures that everything\u001B[39;00m\n\u001B[32m   (...)\u001B[39m\u001B[32m    528\u001B[39m \u001B[33;03m[[1, 2, 3], array([2, 3, 4]), None, <...Sparse...dtype 'int64'...shape (3, 1)>]\u001B[39;00m\n\u001B[32m    529\u001B[39m \u001B[33;03m\"\"\"\u001B[39;00m\n\u001B[32m    531\u001B[39m result = [_make_indexable(X) \u001B[38;5;28;01mfor\u001B[39;00m X \u001B[38;5;129;01min\u001B[39;00m iterables]\n\u001B[32m--> \u001B[39m\u001B[32m532\u001B[39m \u001B[43mcheck_consistent_length\u001B[49m\u001B[43m(\u001B[49m\u001B[43m*\u001B[49m\u001B[43mresult\u001B[49m\u001B[43m)\u001B[49m\n\u001B[32m    533\u001B[39m \u001B[38;5;28;01mreturn\u001B[39;00m result\n",
      "\u001B[36mFile \u001B[39m\u001B[32m~\\Desktop\\mineria\\laboratorios-mineria\\min-venv\\Lib\\site-packages\\sklearn\\utils\\validation.py:472\u001B[39m, in \u001B[36mcheck_consistent_length\u001B[39m\u001B[34m(*arrays)\u001B[39m\n\u001B[32m    454\u001B[39m \u001B[38;5;28;01mdef\u001B[39;00m\u001B[38;5;250m \u001B[39m\u001B[34mcheck_consistent_length\u001B[39m(*arrays):\n\u001B[32m    455\u001B[39m \u001B[38;5;250m    \u001B[39m\u001B[33;03m\"\"\"Check that all arrays have consistent first dimensions.\u001B[39;00m\n\u001B[32m    456\u001B[39m \n\u001B[32m    457\u001B[39m \u001B[33;03m    Checks whether all objects in arrays have the same shape or length.\u001B[39;00m\n\u001B[32m   (...)\u001B[39m\u001B[32m    469\u001B[39m \u001B[33;03m    >>> check_consistent_length(a, b)\u001B[39;00m\n\u001B[32m    470\u001B[39m \u001B[33;03m    \"\"\"\u001B[39;00m\n\u001B[32m--> \u001B[39m\u001B[32m472\u001B[39m     lengths = [\u001B[43m_num_samples\u001B[49m\u001B[43m(\u001B[49m\u001B[43mX\u001B[49m\u001B[43m)\u001B[49m \u001B[38;5;28;01mfor\u001B[39;00m X \u001B[38;5;129;01min\u001B[39;00m arrays \u001B[38;5;28;01mif\u001B[39;00m X \u001B[38;5;129;01mis\u001B[39;00m \u001B[38;5;129;01mnot\u001B[39;00m \u001B[38;5;28;01mNone\u001B[39;00m]\n\u001B[32m    473\u001B[39m     uniques = np.unique(lengths)\n\u001B[32m    474\u001B[39m     \u001B[38;5;28;01mif\u001B[39;00m \u001B[38;5;28mlen\u001B[39m(uniques) > \u001B[32m1\u001B[39m:\n",
      "\u001B[36mFile \u001B[39m\u001B[32m~\\Desktop\\mineria\\laboratorios-mineria\\min-venv\\Lib\\site-packages\\sklearn\\utils\\validation.py:399\u001B[39m, in \u001B[36m_num_samples\u001B[39m\u001B[34m(x)\u001B[39m\n\u001B[32m    397\u001B[39m \u001B[38;5;28;01mif\u001B[39;00m \u001B[38;5;28mhasattr\u001B[39m(x, \u001B[33m\"\u001B[39m\u001B[33mshape\u001B[39m\u001B[33m\"\u001B[39m) \u001B[38;5;129;01mand\u001B[39;00m x.shape \u001B[38;5;129;01mis\u001B[39;00m \u001B[38;5;129;01mnot\u001B[39;00m \u001B[38;5;28;01mNone\u001B[39;00m:\n\u001B[32m    398\u001B[39m     \u001B[38;5;28;01mif\u001B[39;00m \u001B[38;5;28mlen\u001B[39m(x.shape) == \u001B[32m0\u001B[39m:\n\u001B[32m--> \u001B[39m\u001B[32m399\u001B[39m         \u001B[38;5;28;01mraise\u001B[39;00m \u001B[38;5;167;01mTypeError\u001B[39;00m(\n\u001B[32m    400\u001B[39m             \u001B[33m\"\u001B[39m\u001B[33mInput should have at least 1 dimension i.e. satisfy \u001B[39m\u001B[33m\"\u001B[39m\n\u001B[32m    401\u001B[39m             \u001B[33mf\u001B[39m\u001B[33m\"\u001B[39m\u001B[33m`len(x.shape) > 0`, got scalar `\u001B[39m\u001B[38;5;132;01m{\u001B[39;00mx\u001B[38;5;132;01m!r}\u001B[39;00m\u001B[33m` instead.\u001B[39m\u001B[33m\"\u001B[39m\n\u001B[32m    402\u001B[39m         )\n\u001B[32m    403\u001B[39m     \u001B[38;5;66;03m# Check that shape is returning an integer or default to len\u001B[39;00m\n\u001B[32m    404\u001B[39m     \u001B[38;5;66;03m# Dask dataframes may not return numeric shape[0] value\u001B[39;00m\n\u001B[32m    405\u001B[39m     \u001B[38;5;28;01mif\u001B[39;00m \u001B[38;5;28misinstance\u001B[39m(x.shape[\u001B[32m0\u001B[39m], numbers.Integral):\n",
      "\u001B[31mTypeError\u001B[39m: Input should have at least 1 dimension i.e. satisfy `len(x.shape) > 0`, got scalar `array(Ellipsis, dtype=object)` instead."
     ]
    }
   ],
   "execution_count": 13
  },
  {
   "cell_type": "code",
   "execution_count": null,
   "metadata": {
    "id": "FcTZ5fb5EbT7"
   },
   "outputs": [],
   "source": []
  },
  {
   "cell_type": "code",
   "execution_count": null,
   "metadata": {
    "id": "0R4Ah-bGEbL8"
   },
   "outputs": [],
   "source": []
  },
  {
   "cell_type": "code",
   "execution_count": null,
   "metadata": {
    "id": "rpPq70HnEbCO"
   },
   "outputs": [],
   "source": []
  },
  {
   "cell_type": "code",
   "execution_count": null,
   "metadata": {
    "id": "AG5spgPFEanv"
   },
   "outputs": [],
   "source": []
  },
  {
   "cell_type": "markdown",
   "metadata": {
    "id": "XIXB_VRFEdka"
   },
   "source": []
  }
 ],
 "metadata": {
  "anaconda-cloud": {},
  "colab": {
   "provenance": []
  },
  "hide_input": false,
  "kernelspec": {
   "display_name": "Python 3",
   "language": "python",
   "name": "python3"
  },
  "language_info": {
   "codemirror_mode": {
    "name": "ipython",
    "version": 3
   },
   "file_extension": ".py",
   "mimetype": "text/x-python",
   "name": "python",
   "nbconvert_exporter": "python",
   "pygments_lexer": "ipython3",
   "version": "3.13.1"
  },
  "toc": {
   "base_numbering": 1,
   "nav_menu": {},
   "number_sections": true,
   "sideBar": true,
   "skip_h1_title": false,
   "title_cell": "Table of Contents",
   "title_sidebar": "Contents",
   "toc_cell": false,
   "toc_position": {},
   "toc_section_display": true,
   "toc_window_display": false
  },
  "varInspector": {
   "cols": {
    "lenName": 16,
    "lenType": 16,
    "lenVar": 40
   },
   "kernels_config": {
    "python": {
     "delete_cmd_postfix": "",
     "delete_cmd_prefix": "del ",
     "library": "var_list.py",
     "varRefreshCmd": "print(var_dic_list())"
    },
    "r": {
     "delete_cmd_postfix": ") ",
     "delete_cmd_prefix": "rm(",
     "library": "var_list.r",
     "varRefreshCmd": "cat(var_dic_list()) "
    }
   },
   "types_to_exclude": [
    "module",
    "function",
    "builtin_function_or_method",
    "instance",
    "_Feature"
   ],
   "window_display": false
  }
 },
 "nbformat": 4,
 "nbformat_minor": 0
}
