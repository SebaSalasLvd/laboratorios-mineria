{
  "cells": [
    {
      "cell_type": "markdown",
      "metadata": {
        "id": "-CnSaU7yuHuo"
      },
      "source": [
        "# Laboratorio 1: Exploración y Visualización de Datos\n",
        "\n",
        "Integrantes: **José Pablo Canalaes Maturana, Sebastián Ignacio Salas Lavado**\n"
      ]
    },
    {
      "cell_type": "markdown",
      "metadata": {
        "id": "DAB7Kb-fuwH4"
      },
      "source": [
        "## Instrucciones\n",
        "\n",
        "1.  Trabajen en equipos de dos personas. Salvo excepciones, no se corregirá entregas con menos de dos integrantes.\n",
        "\n",
        "2.  Modifique este archivo `.ipynb` agregando sus respuestas donde corresponda.\n",
        "\n",
        "3.  Para cada pregunta **incluya el código fuente que utilizó para llegar a su respuesta. Respuestas sin código no recibirán puntaje.**.\n",
        "\n",
        "4.  El formato de entrega para esta actividad es un archivo **html**. **Genere un archivo HTML usando Jupyter** y súbalo a U-Cursos. Basta con que un/a integrante haga la entrega. Si ambos/as hacen una entrega en U-Cursos, se revisará cualquiera de éstas.\n",
        "\n",
        "\n",
        "#### **Se recomienda fuertemente que no usen ChatGPT para resolver la actividad, ya que la experiencia de aprendizaje es mucho mayor si lo hacen por su cuenta.**"
      ]
    },
    {
      "cell_type": "markdown",
      "metadata": {
        "id": "nyO8FDUqPYEF"
      },
      "source": [
        "## Pongamonos en situación"
      ]
    },
    {
      "cell_type": "markdown",
      "metadata": {
        "id": "zm7XGdfrPYEH"
      },
      "source": [
        "Eres un **cientifico de datos** que trabaja en **Netflix**.\n",
        "\n",
        "En los últimos años ha **crecido la cantidad usuarios que ven anime** en la plataforma, por lo que el equipo de contenido de Netflix ha decidido invertir en la producción de series de anime.\n",
        "\n",
        "Tu jefe te ha pedido que **realices un análisis de los datos de las series de anime** para entender mejor el mercado y poder tomar decisiones informadas."
      ]
    },
    {
      "cell_type": "markdown",
      "metadata": {
        "id": "Q9ssMcp0PYEI"
      },
      "source": [
        "## Datos"
      ]
    },
    {
      "cell_type": "markdown",
      "metadata": {
        "id": "aOoASC9ywZ3D"
      },
      "source": [
        "Para realizar esta tarea, te han entregado un dataset con información de animes de la página **MyAnimeList** (MAL).\n",
        "\n",
        "FUENTE: https://www.kaggle.com/datasets/azathoth42/myanimelist\n",
        "\n",
        "Tenemos 2 archivos:\n",
        "- `anime.csv`: Contiene 6 atributos: \"title\", \"type\", \"source\", \"episodes\", \"airing\" y \"studio\", que corresponden a información sobre el anime.\n",
        "- `anime-stats.csv`: Contiene 4 atributos: \"title\", \"score\", \"members\" (número de usuarios que tienen el anime en su lista) y \"favorites\", que corresponden a estadísticas sobre la popularidad de cada anime."
      ]
    },
    {
      "cell_type": "code",
      "execution_count": 2,
      "metadata": {
        "id": "xyQGRN44ws0n"
      },
      "outputs": [],
      "source": [
        "import pandas as pd\n",
        "import matplotlib.pyplot as plt\n",
        "import numpy as np"
      ]
    },
    {
      "cell_type": "markdown",
      "metadata": {
        "id": "LAurvYuGPYEO"
      },
      "source": [
        "Para que la siguiente celda funcione, los archivos CSV deben estar en la misma carpeta que este notebook."
      ]
    },
    {
      "cell_type": "code",
      "execution_count": 3,
      "metadata": {
        "colab": {
          "base_uri": "https://localhost:8080/",
          "height": 304
        },
        "id": "ltDQGTy2wnpL",
        "outputId": "8dd7c487-b29b-4f29-b4bb-77ce1d6f8a80"
      },
      "outputs": [],
      "source": [
        "df_anime = pd.read_csv('anime.csv', encoding=\"UTF-8\")\n",
        "df_stats = pd.read_csv('anime-stats.csv', encoding=\"UTF-8\")"
      ]
    },
    {
      "cell_type": "markdown",
      "metadata": {
        "id": "b8jdCwYhwyOV"
      },
      "source": [
        "También puedes cargarlos remotamente de un repositorio usando el link a los archivos:\n"
      ]
    },
    {
      "cell_type": "code",
      "execution_count": 4,
      "metadata": {
        "id": "2_8H7ZEJwx7O"
      },
      "outputs": [],
      "source": [
        "df_anime = pd.read_csv('https://raw.githubusercontent.com/bacchus00/cositas/main/anime.csv', encoding=\"UTF-8\")\n",
        "df_stats = pd.read_csv('https://raw.githubusercontent.com/bacchus00/cositas/main/anime-stats.csv', encoding=\"UTF-8\")"
      ]
    },
    {
      "cell_type": "markdown",
      "metadata": {
        "id": "0wVQrAf3PYES"
      },
      "source": [
        "Cualquiera de estas 2 formas es válida para cargar los datos."
      ]
    },
    {
      "cell_type": "markdown",
      "metadata": {
        "id": "uHNVPuI4xN1W"
      },
      "source": [
        "## Exploración básica\n"
      ]
    },
    {
      "cell_type": "markdown",
      "metadata": {
        "id": "H-BY_Nl1PYEU"
      },
      "source": [
        "Para hacernos una idea de como se ven los datos, lo más usual es mostrar los primeros registros de cada dataset."
      ]
    },
    {
      "cell_type": "markdown",
      "metadata": {
        "id": "N031NwOSPYEU"
      },
      "source": [
        "1. Muestre los primeros 5 registros de cada dataset."
      ]
    },
    {
      "cell_type": "code",
      "execution_count": 5,
      "metadata": {
        "id": "isqkpRT7PYEU"
      },
      "outputs": [
        {
          "data": {
            "text/html": [
              "<div>\n",
              "<style scoped>\n",
              "    .dataframe tbody tr th:only-of-type {\n",
              "        vertical-align: middle;\n",
              "    }\n",
              "\n",
              "    .dataframe tbody tr th {\n",
              "        vertical-align: top;\n",
              "    }\n",
              "\n",
              "    .dataframe thead th {\n",
              "        text-align: right;\n",
              "    }\n",
              "</style>\n",
              "<table border=\"1\" class=\"dataframe\">\n",
              "  <thead>\n",
              "    <tr style=\"text-align: right;\">\n",
              "      <th></th>\n",
              "      <th>title</th>\n",
              "      <th>type</th>\n",
              "      <th>source</th>\n",
              "      <th>episodes</th>\n",
              "      <th>airing</th>\n",
              "      <th>studio</th>\n",
              "    </tr>\n",
              "  </thead>\n",
              "  <tbody>\n",
              "    <tr>\n",
              "      <th>0</th>\n",
              "      <td>Inu x Boku SS</td>\n",
              "      <td>TV</td>\n",
              "      <td>Manga</td>\n",
              "      <td>12</td>\n",
              "      <td>False</td>\n",
              "      <td>David Production</td>\n",
              "    </tr>\n",
              "    <tr>\n",
              "      <th>1</th>\n",
              "      <td>Seto no Hanayome</td>\n",
              "      <td>TV</td>\n",
              "      <td>Manga</td>\n",
              "      <td>26</td>\n",
              "      <td>False</td>\n",
              "      <td>Gonzo</td>\n",
              "    </tr>\n",
              "    <tr>\n",
              "      <th>2</th>\n",
              "      <td>Shugo Chara!! Doki</td>\n",
              "      <td>TV</td>\n",
              "      <td>Manga</td>\n",
              "      <td>51</td>\n",
              "      <td>False</td>\n",
              "      <td>Satelight</td>\n",
              "    </tr>\n",
              "    <tr>\n",
              "      <th>3</th>\n",
              "      <td>Princess Tutu</td>\n",
              "      <td>TV</td>\n",
              "      <td>Original</td>\n",
              "      <td>38</td>\n",
              "      <td>False</td>\n",
              "      <td>Hal Film Maker</td>\n",
              "    </tr>\n",
              "    <tr>\n",
              "      <th>4</th>\n",
              "      <td>Bakuman. 3rd Season</td>\n",
              "      <td>TV</td>\n",
              "      <td>Manga</td>\n",
              "      <td>25</td>\n",
              "      <td>False</td>\n",
              "      <td>J.C.Staff</td>\n",
              "    </tr>\n",
              "  </tbody>\n",
              "</table>\n",
              "</div>"
            ],
            "text/plain": [
              "                 title type    source  episodes  airing            studio\n",
              "0        Inu x Boku SS   TV     Manga        12   False  David Production\n",
              "1     Seto no Hanayome   TV     Manga        26   False             Gonzo\n",
              "2   Shugo Chara!! Doki   TV     Manga        51   False         Satelight\n",
              "3        Princess Tutu   TV  Original        38   False    Hal Film Maker\n",
              "4  Bakuman. 3rd Season   TV     Manga        25   False         J.C.Staff"
            ]
          },
          "execution_count": 5,
          "metadata": {},
          "output_type": "execute_result"
        }
      ],
      "source": [
        "df_anime.head()"
      ]
    },
    {
      "cell_type": "code",
      "execution_count": 6,
      "metadata": {
        "id": "G0N9XBRKPYEV"
      },
      "outputs": [
        {
          "data": {
            "text/html": [
              "<div>\n",
              "<style scoped>\n",
              "    .dataframe tbody tr th:only-of-type {\n",
              "        vertical-align: middle;\n",
              "    }\n",
              "\n",
              "    .dataframe tbody tr th {\n",
              "        vertical-align: top;\n",
              "    }\n",
              "\n",
              "    .dataframe thead th {\n",
              "        text-align: right;\n",
              "    }\n",
              "</style>\n",
              "<table border=\"1\" class=\"dataframe\">\n",
              "  <thead>\n",
              "    <tr style=\"text-align: right;\">\n",
              "      <th></th>\n",
              "      <th>title</th>\n",
              "      <th>score</th>\n",
              "      <th>members</th>\n",
              "      <th>favorites</th>\n",
              "    </tr>\n",
              "  </thead>\n",
              "  <tbody>\n",
              "    <tr>\n",
              "      <th>0</th>\n",
              "      <td>Inu x Boku SS</td>\n",
              "      <td>7.63</td>\n",
              "      <td>283882</td>\n",
              "      <td>2809</td>\n",
              "    </tr>\n",
              "    <tr>\n",
              "      <th>1</th>\n",
              "      <td>Seto no Hanayome</td>\n",
              "      <td>7.89</td>\n",
              "      <td>204003</td>\n",
              "      <td>2579</td>\n",
              "    </tr>\n",
              "    <tr>\n",
              "      <th>2</th>\n",
              "      <td>Shugo Chara!! Doki</td>\n",
              "      <td>7.55</td>\n",
              "      <td>70127</td>\n",
              "      <td>802</td>\n",
              "    </tr>\n",
              "    <tr>\n",
              "      <th>3</th>\n",
              "      <td>Princess Tutu</td>\n",
              "      <td>8.21</td>\n",
              "      <td>93312</td>\n",
              "      <td>3344</td>\n",
              "    </tr>\n",
              "    <tr>\n",
              "      <th>4</th>\n",
              "      <td>Bakuman. 3rd Season</td>\n",
              "      <td>8.67</td>\n",
              "      <td>182765</td>\n",
              "      <td>2082</td>\n",
              "    </tr>\n",
              "  </tbody>\n",
              "</table>\n",
              "</div>"
            ],
            "text/plain": [
              "                 title  score  members  favorites\n",
              "0        Inu x Boku SS   7.63   283882       2809\n",
              "1     Seto no Hanayome   7.89   204003       2579\n",
              "2   Shugo Chara!! Doki   7.55    70127        802\n",
              "3        Princess Tutu   8.21    93312       3344\n",
              "4  Bakuman. 3rd Season   8.67   182765       2082"
            ]
          },
          "execution_count": 6,
          "metadata": {},
          "output_type": "execute_result"
        }
      ],
      "source": [
        "df_stats.head()"
      ]
    },
    {
      "cell_type": "markdown",
      "metadata": {
        "id": "xztKToKWPYEV"
      },
      "source": [
        "Siempre es útil conocer **cuántos datos y cuántas columnas** tenemos.\n",
        "\n",
        "Esto es importante para poder responder\n",
        "- ¿Tenemos suficientes datos?\n",
        "- ¿Tenemos suficientes columnas?\n",
        "- ¿Será muy caro computacionalmente trabajar con estos datos?"
      ]
    },
    {
      "cell_type": "markdown",
      "metadata": {
        "id": "jdf-XMHsPYEV"
      },
      "source": [
        "2. ¿Cuales son las dimensiones de cada dataset? en otras palabras, ¿cuántas filas y columnas tiene cada uno?"
      ]
    },
    {
      "cell_type": "code",
      "execution_count": 7,
      "metadata": {
        "id": "gA3Uz40QPYEW"
      },
      "outputs": [
        {
          "name": "stdout",
          "output_type": "stream",
          "text": [
            "Rows : 14478, Columns : 6\n"
          ]
        }
      ],
      "source": [
        "rows, columns = df_anime.shape\n",
        "print(f\"Rows : {rows}, Columns : {columns}\")"
      ]
    },
    {
      "cell_type": "code",
      "execution_count": 8,
      "metadata": {
        "id": "C2CzzD_vPYEW"
      },
      "outputs": [
        {
          "name": "stdout",
          "output_type": "stream",
          "text": [
            "Rows : 14478, Columns : 4\n"
          ]
        }
      ],
      "source": [
        "rows, columns = df_stats.shape\n",
        "print(f\"Rows : {rows}, Columns : {columns}\")"
      ]
    },
    {
      "cell_type": "markdown",
      "metadata": {
        "id": "YM8pZ6Q9PYEW"
      },
      "source": [
        "3. Además de ver algunos registros y las dimensiones, también es útil conocer algunas **estadísticas básicas** de los datos. Usa una función que nos permita **ver las estadísticas básicas** de **todas las columnas**."
      ]
    },
    {
      "cell_type": "code",
      "execution_count": 9,
      "metadata": {
        "id": "Mzimgm2KPYEX"
      },
      "outputs": [
        {
          "data": {
            "text/html": [
              "<div>\n",
              "<style scoped>\n",
              "    .dataframe tbody tr th:only-of-type {\n",
              "        vertical-align: middle;\n",
              "    }\n",
              "\n",
              "    .dataframe tbody tr th {\n",
              "        vertical-align: top;\n",
              "    }\n",
              "\n",
              "    .dataframe thead th {\n",
              "        text-align: right;\n",
              "    }\n",
              "</style>\n",
              "<table border=\"1\" class=\"dataframe\">\n",
              "  <thead>\n",
              "    <tr style=\"text-align: right;\">\n",
              "      <th></th>\n",
              "      <th>title</th>\n",
              "      <th>type</th>\n",
              "      <th>source</th>\n",
              "      <th>episodes</th>\n",
              "      <th>airing</th>\n",
              "      <th>studio</th>\n",
              "    </tr>\n",
              "  </thead>\n",
              "  <tbody>\n",
              "    <tr>\n",
              "      <th>count</th>\n",
              "      <td>14478</td>\n",
              "      <td>14478</td>\n",
              "      <td>14478</td>\n",
              "      <td>14478.000000</td>\n",
              "      <td>14478</td>\n",
              "      <td>8544</td>\n",
              "    </tr>\n",
              "    <tr>\n",
              "      <th>unique</th>\n",
              "      <td>14477</td>\n",
              "      <td>7</td>\n",
              "      <td>16</td>\n",
              "      <td>NaN</td>\n",
              "      <td>2</td>\n",
              "      <td>456</td>\n",
              "    </tr>\n",
              "    <tr>\n",
              "      <th>top</th>\n",
              "      <td>Hinamatsuri</td>\n",
              "      <td>TV</td>\n",
              "      <td>Unknown</td>\n",
              "      <td>NaN</td>\n",
              "      <td>False</td>\n",
              "      <td>Toei Animation</td>\n",
              "    </tr>\n",
              "    <tr>\n",
              "      <th>freq</th>\n",
              "      <td>2</td>\n",
              "      <td>4271</td>\n",
              "      <td>4210</td>\n",
              "      <td>NaN</td>\n",
              "      <td>14127</td>\n",
              "      <td>735</td>\n",
              "    </tr>\n",
              "    <tr>\n",
              "      <th>mean</th>\n",
              "      <td>NaN</td>\n",
              "      <td>NaN</td>\n",
              "      <td>NaN</td>\n",
              "      <td>11.308399</td>\n",
              "      <td>NaN</td>\n",
              "      <td>NaN</td>\n",
              "    </tr>\n",
              "    <tr>\n",
              "      <th>std</th>\n",
              "      <td>NaN</td>\n",
              "      <td>NaN</td>\n",
              "      <td>NaN</td>\n",
              "      <td>43.443451</td>\n",
              "      <td>NaN</td>\n",
              "      <td>NaN</td>\n",
              "    </tr>\n",
              "    <tr>\n",
              "      <th>min</th>\n",
              "      <td>NaN</td>\n",
              "      <td>NaN</td>\n",
              "      <td>NaN</td>\n",
              "      <td>0.000000</td>\n",
              "      <td>NaN</td>\n",
              "      <td>NaN</td>\n",
              "    </tr>\n",
              "    <tr>\n",
              "      <th>25%</th>\n",
              "      <td>NaN</td>\n",
              "      <td>NaN</td>\n",
              "      <td>NaN</td>\n",
              "      <td>1.000000</td>\n",
              "      <td>NaN</td>\n",
              "      <td>NaN</td>\n",
              "    </tr>\n",
              "    <tr>\n",
              "      <th>50%</th>\n",
              "      <td>NaN</td>\n",
              "      <td>NaN</td>\n",
              "      <td>NaN</td>\n",
              "      <td>1.000000</td>\n",
              "      <td>NaN</td>\n",
              "      <td>NaN</td>\n",
              "    </tr>\n",
              "    <tr>\n",
              "      <th>75%</th>\n",
              "      <td>NaN</td>\n",
              "      <td>NaN</td>\n",
              "      <td>NaN</td>\n",
              "      <td>12.000000</td>\n",
              "      <td>NaN</td>\n",
              "      <td>NaN</td>\n",
              "    </tr>\n",
              "    <tr>\n",
              "      <th>max</th>\n",
              "      <td>NaN</td>\n",
              "      <td>NaN</td>\n",
              "      <td>NaN</td>\n",
              "      <td>1818.000000</td>\n",
              "      <td>NaN</td>\n",
              "      <td>NaN</td>\n",
              "    </tr>\n",
              "  </tbody>\n",
              "</table>\n",
              "</div>"
            ],
            "text/plain": [
              "              title   type   source      episodes airing          studio\n",
              "count         14478  14478    14478  14478.000000  14478            8544\n",
              "unique        14477      7       16           NaN      2             456\n",
              "top     Hinamatsuri     TV  Unknown           NaN  False  Toei Animation\n",
              "freq              2   4271     4210           NaN  14127             735\n",
              "mean            NaN    NaN      NaN     11.308399    NaN             NaN\n",
              "std             NaN    NaN      NaN     43.443451    NaN             NaN\n",
              "min             NaN    NaN      NaN      0.000000    NaN             NaN\n",
              "25%             NaN    NaN      NaN      1.000000    NaN             NaN\n",
              "50%             NaN    NaN      NaN      1.000000    NaN             NaN\n",
              "75%             NaN    NaN      NaN     12.000000    NaN             NaN\n",
              "max             NaN    NaN      NaN   1818.000000    NaN             NaN"
            ]
          },
          "execution_count": 9,
          "metadata": {},
          "output_type": "execute_result"
        }
      ],
      "source": [
        "df_anime.describe(include = \"all\")"
      ]
    },
    {
      "cell_type": "code",
      "execution_count": 10,
      "metadata": {
        "id": "c3ImsWnLPYEX"
      },
      "outputs": [
        {
          "data": {
            "text/html": [
              "<div>\n",
              "<style scoped>\n",
              "    .dataframe tbody tr th:only-of-type {\n",
              "        vertical-align: middle;\n",
              "    }\n",
              "\n",
              "    .dataframe tbody tr th {\n",
              "        vertical-align: top;\n",
              "    }\n",
              "\n",
              "    .dataframe thead th {\n",
              "        text-align: right;\n",
              "    }\n",
              "</style>\n",
              "<table border=\"1\" class=\"dataframe\">\n",
              "  <thead>\n",
              "    <tr style=\"text-align: right;\">\n",
              "      <th></th>\n",
              "      <th>title</th>\n",
              "      <th>score</th>\n",
              "      <th>members</th>\n",
              "      <th>favorites</th>\n",
              "    </tr>\n",
              "  </thead>\n",
              "  <tbody>\n",
              "    <tr>\n",
              "      <th>count</th>\n",
              "      <td>14478</td>\n",
              "      <td>14478.000000</td>\n",
              "      <td>1.447800e+04</td>\n",
              "      <td>14478.000000</td>\n",
              "    </tr>\n",
              "    <tr>\n",
              "      <th>unique</th>\n",
              "      <td>14477</td>\n",
              "      <td>NaN</td>\n",
              "      <td>NaN</td>\n",
              "      <td>NaN</td>\n",
              "    </tr>\n",
              "    <tr>\n",
              "      <th>top</th>\n",
              "      <td>Hinamatsuri</td>\n",
              "      <td>NaN</td>\n",
              "      <td>NaN</td>\n",
              "      <td>NaN</td>\n",
              "    </tr>\n",
              "    <tr>\n",
              "      <th>freq</th>\n",
              "      <td>2</td>\n",
              "      <td>NaN</td>\n",
              "      <td>NaN</td>\n",
              "      <td>NaN</td>\n",
              "    </tr>\n",
              "    <tr>\n",
              "      <th>mean</th>\n",
              "      <td>NaN</td>\n",
              "      <td>6.142482</td>\n",
              "      <td>2.296640e+04</td>\n",
              "      <td>311.649606</td>\n",
              "    </tr>\n",
              "    <tr>\n",
              "      <th>std</th>\n",
              "      <td>NaN</td>\n",
              "      <td>1.463981</td>\n",
              "      <td>7.498136e+04</td>\n",
              "      <td>2615.554211</td>\n",
              "    </tr>\n",
              "    <tr>\n",
              "      <th>min</th>\n",
              "      <td>NaN</td>\n",
              "      <td>0.000000</td>\n",
              "      <td>0.000000e+00</td>\n",
              "      <td>0.000000</td>\n",
              "    </tr>\n",
              "    <tr>\n",
              "      <th>25%</th>\n",
              "      <td>NaN</td>\n",
              "      <td>5.550000</td>\n",
              "      <td>2.450000e+02</td>\n",
              "      <td>0.000000</td>\n",
              "    </tr>\n",
              "    <tr>\n",
              "      <th>50%</th>\n",
              "      <td>NaN</td>\n",
              "      <td>6.370000</td>\n",
              "      <td>1.679500e+03</td>\n",
              "      <td>2.000000</td>\n",
              "    </tr>\n",
              "    <tr>\n",
              "      <th>75%</th>\n",
              "      <td>NaN</td>\n",
              "      <td>7.060000</td>\n",
              "      <td>1.037900e+04</td>\n",
              "      <td>23.000000</td>\n",
              "    </tr>\n",
              "    <tr>\n",
              "      <th>max</th>\n",
              "      <td>NaN</td>\n",
              "      <td>10.000000</td>\n",
              "      <td>1.456378e+06</td>\n",
              "      <td>106895.000000</td>\n",
              "    </tr>\n",
              "  </tbody>\n",
              "</table>\n",
              "</div>"
            ],
            "text/plain": [
              "              title         score       members      favorites\n",
              "count         14478  14478.000000  1.447800e+04   14478.000000\n",
              "unique        14477           NaN           NaN            NaN\n",
              "top     Hinamatsuri           NaN           NaN            NaN\n",
              "freq              2           NaN           NaN            NaN\n",
              "mean            NaN      6.142482  2.296640e+04     311.649606\n",
              "std             NaN      1.463981  7.498136e+04    2615.554211\n",
              "min             NaN      0.000000  0.000000e+00       0.000000\n",
              "25%             NaN      5.550000  2.450000e+02       0.000000\n",
              "50%             NaN      6.370000  1.679500e+03       2.000000\n",
              "75%             NaN      7.060000  1.037900e+04      23.000000\n",
              "max             NaN     10.000000  1.456378e+06  106895.000000"
            ]
          },
          "execution_count": 10,
          "metadata": {},
          "output_type": "execute_result"
        }
      ],
      "source": [
        "df_stats.describe(include = \"all\")"
      ]
    },
    {
      "cell_type": "markdown",
      "metadata": {
        "id": "09aGGaz9PYEY"
      },
      "source": [
        "## Posibles errores en los datos"
      ]
    },
    {
      "cell_type": "markdown",
      "metadata": {
        "id": "mLg2t5g8PYEY"
      },
      "source": [
        "Al construir los datasets, es posible que se hayan generado **datos duplicados**, ya sea porque alguien ingresó dos veces la misma información, o porque se generó un error en la recolección de datos. Es importante **detectar y decidir qué hacer con estos datos**."
      ]
    },
    {
      "cell_type": "markdown",
      "metadata": {
        "id": "2u883gTnxSe1"
      },
      "source": [
        "4.  ¿Existen filas duplicadas en alguno de los dataframes?\n"
      ]
    },
    {
      "cell_type": "code",
      "execution_count": 11,
      "metadata": {
        "id": "oSCqVVHLxc7F"
      },
      "outputs": [
        {
          "name": "stdout",
          "output_type": "stream",
          "text": [
            "Tiene duplicados: False \n"
          ]
        }
      ],
      "source": [
        "\n",
        "print(f\"Tiene duplicados: {df_stats.index.has_duplicates} \")"
      ]
    },
    {
      "cell_type": "code",
      "execution_count": 12,
      "metadata": {
        "id": "lbiWjsayPYEZ"
      },
      "outputs": [
        {
          "name": "stdout",
          "output_type": "stream",
          "text": [
            "Tiene duplicados: False \n"
          ]
        }
      ],
      "source": [
        "print(f\"Tiene duplicados: {df_anime.index.has_duplicates} \")"
      ]
    },
    {
      "cell_type": "markdown",
      "metadata": {
        "id": "BwJcZAElPYEZ"
      },
      "source": [
        "Otro caso común es que existan **valores nulos** en los datos. Al igual que antes, es importante **identificarlos y decidir qué hacer con ellos**."
      ]
    },
    {
      "cell_type": "markdown",
      "metadata": {
        "id": "txTGpQT7x77U"
      },
      "source": [
        "5.  ¿Hay filas con valores nulos en los dataframes?"
      ]
    },
    {
      "cell_type": "code",
      "execution_count": 13,
      "metadata": {
        "id": "-jq9z9Gcx_u-"
      },
      "outputs": [
        {
          "name": "stdout",
          "output_type": "stream",
          "text": [
            "Nulos : 5934\n"
          ]
        }
      ],
      "source": [
        "nan_count = df_anime.isnull().sum().sum()\n",
        "print(f\"Nulos : {nan_count}\")"
      ]
    },
    {
      "cell_type": "code",
      "execution_count": 14,
      "metadata": {
        "id": "4ipGDVaRPYEa"
      },
      "outputs": [
        {
          "name": "stdout",
          "output_type": "stream",
          "text": [
            "Nulos : 0\n"
          ]
        }
      ],
      "source": [
        "nan_count = df_stats.isnull().sum().sum()\n",
        "print(f\"Nulos : {nan_count}\")"
      ]
    },
    {
      "cell_type": "markdown",
      "metadata": {
        "id": "z88uyyQaPYEa"
      },
      "source": [
        "Consideremos que estamos en la situación en la que **decidimos eliminar los valores nulos**."
      ]
    },
    {
      "cell_type": "markdown",
      "metadata": {
        "id": "Nq4MxtnsPYEb"
      },
      "source": [
        "6. En caso de existir valores nulos, elimine las filas que los contengan. ¿Cuántas filas quedan en cada dataset luego de eliminar los valores nulos?"
      ]
    },
    {
      "cell_type": "code",
      "execution_count": 15,
      "metadata": {
        "id": "C3Tq4xmqPYEb"
      },
      "outputs": [
        {
          "name": "stdout",
          "output_type": "stream",
          "text": [
            "Filas: 8544\n"
          ]
        }
      ],
      "source": [
        "df_anime_sin_nulos = df_anime.dropna(how='any',axis=0)\n",
        "\n",
        "rows, columns = df_anime_sin_nulos.shape\n",
        "print(f\"Filas: {rows}\")\n"
      ]
    },
    {
      "cell_type": "code",
      "execution_count": 16,
      "metadata": {
        "id": "RdE_ipyNPYEb"
      },
      "outputs": [
        {
          "name": "stdout",
          "output_type": "stream",
          "text": [
            "Filas: 14478\n"
          ]
        }
      ],
      "source": [
        "df_stats_sin_nulos = df_stats.dropna(how='any',axis=0)\n",
        "\n",
        "rows, columns = df_stats_sin_nulos.shape\n",
        "print(f\"Filas: {rows}\")"
      ]
    },
    {
      "cell_type": "markdown",
      "metadata": {
        "id": "N8mB-040ynfR"
      },
      "source": [
        "## Juntemos nuestros datos\n",
        "\n",
        "Con el objetivo de tener toda la información en un solo dataframe, y así poder responder preguntas más complejas, **unamos ambos dataframes**."
      ]
    },
    {
      "cell_type": "markdown",
      "metadata": {
        "id": "GIwUxEfBPYEd"
      },
      "source": [
        "7. Junte ambos dataframes en uno solo **a través de la columna \"title\"** con un **inner join**, y **muestre los primeros 5 registros** de este nuevo dataframe."
      ]
    },
    {
      "cell_type": "code",
      "execution_count": 17,
      "metadata": {
        "id": "UKw7UPFoyvkr"
      },
      "outputs": [
        {
          "data": {
            "text/html": [
              "<div>\n",
              "<style scoped>\n",
              "    .dataframe tbody tr th:only-of-type {\n",
              "        vertical-align: middle;\n",
              "    }\n",
              "\n",
              "    .dataframe tbody tr th {\n",
              "        vertical-align: top;\n",
              "    }\n",
              "\n",
              "    .dataframe thead th {\n",
              "        text-align: right;\n",
              "    }\n",
              "</style>\n",
              "<table border=\"1\" class=\"dataframe\">\n",
              "  <thead>\n",
              "    <tr style=\"text-align: right;\">\n",
              "      <th></th>\n",
              "      <th>title</th>\n",
              "      <th>type</th>\n",
              "      <th>source</th>\n",
              "      <th>episodes</th>\n",
              "      <th>airing</th>\n",
              "      <th>studio</th>\n",
              "      <th>score</th>\n",
              "      <th>members</th>\n",
              "      <th>favorites</th>\n",
              "    </tr>\n",
              "  </thead>\n",
              "  <tbody>\n",
              "    <tr>\n",
              "      <th>0</th>\n",
              "      <td>Inu x Boku SS</td>\n",
              "      <td>TV</td>\n",
              "      <td>Manga</td>\n",
              "      <td>12</td>\n",
              "      <td>False</td>\n",
              "      <td>David Production</td>\n",
              "      <td>7.63</td>\n",
              "      <td>283882</td>\n",
              "      <td>2809</td>\n",
              "    </tr>\n",
              "    <tr>\n",
              "      <th>1</th>\n",
              "      <td>Seto no Hanayome</td>\n",
              "      <td>TV</td>\n",
              "      <td>Manga</td>\n",
              "      <td>26</td>\n",
              "      <td>False</td>\n",
              "      <td>Gonzo</td>\n",
              "      <td>7.89</td>\n",
              "      <td>204003</td>\n",
              "      <td>2579</td>\n",
              "    </tr>\n",
              "    <tr>\n",
              "      <th>2</th>\n",
              "      <td>Shugo Chara!! Doki</td>\n",
              "      <td>TV</td>\n",
              "      <td>Manga</td>\n",
              "      <td>51</td>\n",
              "      <td>False</td>\n",
              "      <td>Satelight</td>\n",
              "      <td>7.55</td>\n",
              "      <td>70127</td>\n",
              "      <td>802</td>\n",
              "    </tr>\n",
              "    <tr>\n",
              "      <th>3</th>\n",
              "      <td>Princess Tutu</td>\n",
              "      <td>TV</td>\n",
              "      <td>Original</td>\n",
              "      <td>38</td>\n",
              "      <td>False</td>\n",
              "      <td>Hal Film Maker</td>\n",
              "      <td>8.21</td>\n",
              "      <td>93312</td>\n",
              "      <td>3344</td>\n",
              "    </tr>\n",
              "    <tr>\n",
              "      <th>4</th>\n",
              "      <td>Bakuman. 3rd Season</td>\n",
              "      <td>TV</td>\n",
              "      <td>Manga</td>\n",
              "      <td>25</td>\n",
              "      <td>False</td>\n",
              "      <td>J.C.Staff</td>\n",
              "      <td>8.67</td>\n",
              "      <td>182765</td>\n",
              "      <td>2082</td>\n",
              "    </tr>\n",
              "  </tbody>\n",
              "</table>\n",
              "</div>"
            ],
            "text/plain": [
              "                 title type    source  episodes  airing            studio  \\\n",
              "0        Inu x Boku SS   TV     Manga        12   False  David Production   \n",
              "1     Seto no Hanayome   TV     Manga        26   False             Gonzo   \n",
              "2   Shugo Chara!! Doki   TV     Manga        51   False         Satelight   \n",
              "3        Princess Tutu   TV  Original        38   False    Hal Film Maker   \n",
              "4  Bakuman. 3rd Season   TV     Manga        25   False         J.C.Staff   \n",
              "\n",
              "   score  members  favorites  \n",
              "0   7.63   283882       2809  \n",
              "1   7.89   204003       2579  \n",
              "2   7.55    70127        802  \n",
              "3   8.21    93312       3344  \n",
              "4   8.67   182765       2082  "
            ]
          },
          "execution_count": 17,
          "metadata": {},
          "output_type": "execute_result"
        }
      ],
      "source": [
        "df_merge = pd.merge(left=df_anime_sin_nulos, right=df_stats_sin_nulos, how='inner', on = 'title')\n",
        "df_merge.head()"
      ]
    },
    {
      "cell_type": "markdown",
      "metadata": {
        "id": "kjH0Q24TPYEo"
      },
      "source": [
        "## Obtengamos información de los datos"
      ]
    },
    {
      "cell_type": "markdown",
      "metadata": {
        "id": "EsCmiI_6PYEp"
      },
      "source": [
        "Ahora tenemos que entender un poco más sobre los datos que tenemos, para que el equipo de contenido pueda tomar decisiones informadas.\n",
        "\n",
        "Para esto, tu jefe te ha solicitado las siguientes tareas:"
      ]
    },
    {
      "cell_type": "markdown",
      "metadata": {
        "id": "NVskluTWyrA0"
      },
      "source": [
        "8. \"Necesitamos saber cuales son los animes más populares.\" Para esto, **entrega los 5 animes con más miembros** (número de usuarios que tienen el anime en su lista)."
      ]
    },
    {
      "cell_type": "code",
      "execution_count": 18,
      "metadata": {
        "id": "9u0I_Ip3zT0B"
      },
      "outputs": [
        {
          "data": {
            "text/html": [
              "<div>\n",
              "<style scoped>\n",
              "    .dataframe tbody tr th:only-of-type {\n",
              "        vertical-align: middle;\n",
              "    }\n",
              "\n",
              "    .dataframe tbody tr th {\n",
              "        vertical-align: top;\n",
              "    }\n",
              "\n",
              "    .dataframe thead th {\n",
              "        text-align: right;\n",
              "    }\n",
              "</style>\n",
              "<table border=\"1\" class=\"dataframe\">\n",
              "  <thead>\n",
              "    <tr style=\"text-align: right;\">\n",
              "      <th></th>\n",
              "      <th>title</th>\n",
              "      <th>type</th>\n",
              "      <th>source</th>\n",
              "      <th>episodes</th>\n",
              "      <th>airing</th>\n",
              "      <th>studio</th>\n",
              "      <th>score</th>\n",
              "      <th>members</th>\n",
              "      <th>favorites</th>\n",
              "    </tr>\n",
              "  </thead>\n",
              "  <tbody>\n",
              "    <tr>\n",
              "      <th>4846</th>\n",
              "      <td>Death Note</td>\n",
              "      <td>TV</td>\n",
              "      <td>Manga</td>\n",
              "      <td>37</td>\n",
              "      <td>False</td>\n",
              "      <td>Madhouse</td>\n",
              "      <td>8.67</td>\n",
              "      <td>1456378</td>\n",
              "      <td>88696</td>\n",
              "    </tr>\n",
              "    <tr>\n",
              "      <th>4974</th>\n",
              "      <td>Shingeki no Kyojin</td>\n",
              "      <td>TV</td>\n",
              "      <td>Manga</td>\n",
              "      <td>25</td>\n",
              "      <td>False</td>\n",
              "      <td>Wit Studio</td>\n",
              "      <td>8.49</td>\n",
              "      <td>1345842</td>\n",
              "      <td>64032</td>\n",
              "    </tr>\n",
              "    <tr>\n",
              "      <th>3826</th>\n",
              "      <td>Sword Art Online</td>\n",
              "      <td>TV</td>\n",
              "      <td>Light novel</td>\n",
              "      <td>25</td>\n",
              "      <td>False</td>\n",
              "      <td>A-1 Pictures</td>\n",
              "      <td>7.64</td>\n",
              "      <td>1301616</td>\n",
              "      <td>50042</td>\n",
              "    </tr>\n",
              "    <tr>\n",
              "      <th>1602</th>\n",
              "      <td>Fullmetal Alchemist: Brotherhood</td>\n",
              "      <td>TV</td>\n",
              "      <td>Manga</td>\n",
              "      <td>64</td>\n",
              "      <td>False</td>\n",
              "      <td>Bones</td>\n",
              "      <td>9.25</td>\n",
              "      <td>1199091</td>\n",
              "      <td>106895</td>\n",
              "    </tr>\n",
              "    <tr>\n",
              "      <th>5393</th>\n",
              "      <td>One Punch Man</td>\n",
              "      <td>TV</td>\n",
              "      <td>Web manga</td>\n",
              "      <td>12</td>\n",
              "      <td>False</td>\n",
              "      <td>Madhouse</td>\n",
              "      <td>8.73</td>\n",
              "      <td>1020754</td>\n",
              "      <td>30747</td>\n",
              "    </tr>\n",
              "  </tbody>\n",
              "</table>\n",
              "</div>"
            ],
            "text/plain": [
              "                                 title type       source  episodes  airing  \\\n",
              "4846                        Death Note   TV        Manga        37   False   \n",
              "4974                Shingeki no Kyojin   TV        Manga        25   False   \n",
              "3826                  Sword Art Online   TV  Light novel        25   False   \n",
              "1602  Fullmetal Alchemist: Brotherhood   TV        Manga        64   False   \n",
              "5393                     One Punch Man   TV    Web manga        12   False   \n",
              "\n",
              "            studio  score  members  favorites  \n",
              "4846      Madhouse   8.67  1456378      88696  \n",
              "4974    Wit Studio   8.49  1345842      64032  \n",
              "3826  A-1 Pictures   7.64  1301616      50042  \n",
              "1602         Bones   9.25  1199091     106895  \n",
              "5393      Madhouse   8.73  1020754      30747  "
            ]
          },
          "execution_count": 18,
          "metadata": {},
          "output_type": "execute_result"
        }
      ],
      "source": [
        "df_sorted = df_merge.sort_values(\"members\", ascending=False)\n",
        "df_sorted.head()"
      ]
    },
    {
      "cell_type": "markdown",
      "metadata": {
        "id": "fchx0Kd3PYEq"
      },
      "source": [
        "9. Esta información puede ser muy valiosa para identificar alguna característica en común de los animes más populares. **Realiza una observación de alguna característica en común, o algo relevante, de los 5 animes** obtenidos en la pregunta anterior."
      ]
    },
    {
      "cell_type": "markdown",
      "metadata": {
        "id": "zU4ypkCaPYEr"
      },
      "source": [
        "R: Los factores en común son que se trata de animes con type=TV y airing=False. Además, se observa que los animes más populares no necesariamente tienen una buena puntuación, esto es ya que solo un anime popular presenta un score superior a 9."
      ]
    },
    {
      "cell_type": "markdown",
      "metadata": {
        "id": "VfecebgFzUNT"
      },
      "source": [
        "10. Además de un anime popular, el equipo te dice que quiere hacer un anime de mucha calidad, osea, que sea muy bien evaluado, en particular buscan que tenga un score mayor a 9.0. **Entrega los con score mayor a 9.0**."
      ]
    },
    {
      "cell_type": "code",
      "execution_count": 19,
      "metadata": {
        "id": "jSan9NG5PYEs"
      },
      "outputs": [
        {
          "data": {
            "text/html": [
              "<div>\n",
              "<style scoped>\n",
              "    .dataframe tbody tr th:only-of-type {\n",
              "        vertical-align: middle;\n",
              "    }\n",
              "\n",
              "    .dataframe tbody tr th {\n",
              "        vertical-align: top;\n",
              "    }\n",
              "\n",
              "    .dataframe thead th {\n",
              "        text-align: right;\n",
              "    }\n",
              "</style>\n",
              "<table border=\"1\" class=\"dataframe\">\n",
              "  <thead>\n",
              "    <tr style=\"text-align: right;\">\n",
              "      <th></th>\n",
              "      <th>title</th>\n",
              "      <th>type</th>\n",
              "      <th>source</th>\n",
              "      <th>episodes</th>\n",
              "      <th>airing</th>\n",
              "      <th>studio</th>\n",
              "      <th>score</th>\n",
              "      <th>members</th>\n",
              "      <th>favorites</th>\n",
              "    </tr>\n",
              "  </thead>\n",
              "  <tbody>\n",
              "    <tr>\n",
              "      <th>287</th>\n",
              "      <td>Hunter x Hunter (2011)</td>\n",
              "      <td>TV</td>\n",
              "      <td>Manga</td>\n",
              "      <td>148</td>\n",
              "      <td>False</td>\n",
              "      <td>Madhouse</td>\n",
              "      <td>9.11</td>\n",
              "      <td>720920</td>\n",
              "      <td>64375</td>\n",
              "    </tr>\n",
              "    <tr>\n",
              "      <th>666</th>\n",
              "      <td>Kimi no Na wa.</td>\n",
              "      <td>Movie</td>\n",
              "      <td>Original</td>\n",
              "      <td>1</td>\n",
              "      <td>False</td>\n",
              "      <td>CoMix Wave Films</td>\n",
              "      <td>9.19</td>\n",
              "      <td>730076</td>\n",
              "      <td>34912</td>\n",
              "    </tr>\n",
              "    <tr>\n",
              "      <th>803</th>\n",
              "      <td>Gintama°</td>\n",
              "      <td>TV</td>\n",
              "      <td>Manga</td>\n",
              "      <td>51</td>\n",
              "      <td>False</td>\n",
              "      <td>Bandai Namco Pictures</td>\n",
              "      <td>9.15</td>\n",
              "      <td>198744</td>\n",
              "      <td>5668</td>\n",
              "    </tr>\n",
              "    <tr>\n",
              "      <th>839</th>\n",
              "      <td>3-gatsu no Lion 2nd Season</td>\n",
              "      <td>TV</td>\n",
              "      <td>Manga</td>\n",
              "      <td>22</td>\n",
              "      <td>False</td>\n",
              "      <td>Shaft</td>\n",
              "      <td>9.10</td>\n",
              "      <td>85744</td>\n",
              "      <td>2257</td>\n",
              "    </tr>\n",
              "    <tr>\n",
              "      <th>1602</th>\n",
              "      <td>Fullmetal Alchemist: Brotherhood</td>\n",
              "      <td>TV</td>\n",
              "      <td>Manga</td>\n",
              "      <td>64</td>\n",
              "      <td>False</td>\n",
              "      <td>Bones</td>\n",
              "      <td>9.25</td>\n",
              "      <td>1199091</td>\n",
              "      <td>106895</td>\n",
              "    </tr>\n",
              "    <tr>\n",
              "      <th>1733</th>\n",
              "      <td>Clannad: After Story</td>\n",
              "      <td>TV</td>\n",
              "      <td>Visual novel</td>\n",
              "      <td>24</td>\n",
              "      <td>False</td>\n",
              "      <td>Kyoto Animation</td>\n",
              "      <td>9.01</td>\n",
              "      <td>607387</td>\n",
              "      <td>47380</td>\n",
              "    </tr>\n",
              "    <tr>\n",
              "      <th>1866</th>\n",
              "      <td>Steins;Gate</td>\n",
              "      <td>TV</td>\n",
              "      <td>Visual novel</td>\n",
              "      <td>24</td>\n",
              "      <td>False</td>\n",
              "      <td>White Fox</td>\n",
              "      <td>9.14</td>\n",
              "      <td>1010330</td>\n",
              "      <td>92423</td>\n",
              "    </tr>\n",
              "    <tr>\n",
              "      <th>3519</th>\n",
              "      <td>Gintama&amp;#039;: Enchousen</td>\n",
              "      <td>TV</td>\n",
              "      <td>Manga</td>\n",
              "      <td>13</td>\n",
              "      <td>False</td>\n",
              "      <td>Sunrise</td>\n",
              "      <td>9.07</td>\n",
              "      <td>123572</td>\n",
              "      <td>1509</td>\n",
              "    </tr>\n",
              "    <tr>\n",
              "      <th>3755</th>\n",
              "      <td>Steins;Gate 0</td>\n",
              "      <td>TV</td>\n",
              "      <td>Visual novel</td>\n",
              "      <td>23</td>\n",
              "      <td>True</td>\n",
              "      <td>White Fox</td>\n",
              "      <td>9.15</td>\n",
              "      <td>223989</td>\n",
              "      <td>1882</td>\n",
              "    </tr>\n",
              "    <tr>\n",
              "      <th>3998</th>\n",
              "      <td>Gintama</td>\n",
              "      <td>TV</td>\n",
              "      <td>Manga</td>\n",
              "      <td>201</td>\n",
              "      <td>False</td>\n",
              "      <td>Sunrise</td>\n",
              "      <td>9.01</td>\n",
              "      <td>459031</td>\n",
              "      <td>33781</td>\n",
              "    </tr>\n",
              "    <tr>\n",
              "      <th>4010</th>\n",
              "      <td>Koe no Katachi</td>\n",
              "      <td>Movie</td>\n",
              "      <td>Manga</td>\n",
              "      <td>1</td>\n",
              "      <td>False</td>\n",
              "      <td>Kyoto Animation</td>\n",
              "      <td>9.04</td>\n",
              "      <td>511915</td>\n",
              "      <td>19815</td>\n",
              "    </tr>\n",
              "    <tr>\n",
              "      <th>4043</th>\n",
              "      <td>Owarimonogatari 2nd Season</td>\n",
              "      <td>TV</td>\n",
              "      <td>Light novel</td>\n",
              "      <td>7</td>\n",
              "      <td>False</td>\n",
              "      <td>Shaft</td>\n",
              "      <td>9.02</td>\n",
              "      <td>113928</td>\n",
              "      <td>2432</td>\n",
              "    </tr>\n",
              "    <tr>\n",
              "      <th>5481</th>\n",
              "      <td>Gintama&amp;#039;</td>\n",
              "      <td>TV</td>\n",
              "      <td>Manga</td>\n",
              "      <td>51</td>\n",
              "      <td>False</td>\n",
              "      <td>Sunrise</td>\n",
              "      <td>9.11</td>\n",
              "      <td>215527</td>\n",
              "      <td>4549</td>\n",
              "    </tr>\n",
              "    <tr>\n",
              "      <th>6665</th>\n",
              "      <td>Gintama.</td>\n",
              "      <td>TV</td>\n",
              "      <td>Manga</td>\n",
              "      <td>12</td>\n",
              "      <td>False</td>\n",
              "      <td>Bandai Namco Pictures</td>\n",
              "      <td>9.02</td>\n",
              "      <td>91695</td>\n",
              "      <td>1237</td>\n",
              "    </tr>\n",
              "    <tr>\n",
              "      <th>7788</th>\n",
              "      <td>Ginga Eiyuu Densetsu</td>\n",
              "      <td>OVA</td>\n",
              "      <td>Novel</td>\n",
              "      <td>110</td>\n",
              "      <td>False</td>\n",
              "      <td>Artland</td>\n",
              "      <td>9.11</td>\n",
              "      <td>124993</td>\n",
              "      <td>8567</td>\n",
              "    </tr>\n",
              "    <tr>\n",
              "      <th>8087</th>\n",
              "      <td>Gintama Movie 2: Kanketsu-hen - Yorozuya yo Ei...</td>\n",
              "      <td>Movie</td>\n",
              "      <td>Manga</td>\n",
              "      <td>1</td>\n",
              "      <td>False</td>\n",
              "      <td>Sunrise</td>\n",
              "      <td>9.04</td>\n",
              "      <td>105458</td>\n",
              "      <td>1395</td>\n",
              "    </tr>\n",
              "    <tr>\n",
              "      <th>8528</th>\n",
              "      <td>Dokidoki Little Ooyasan</td>\n",
              "      <td>OVA</td>\n",
              "      <td>Other</td>\n",
              "      <td>0</td>\n",
              "      <td>True</td>\n",
              "      <td>Collaboration Works</td>\n",
              "      <td>9.52</td>\n",
              "      <td>357</td>\n",
              "      <td>21</td>\n",
              "    </tr>\n",
              "  </tbody>\n",
              "</table>\n",
              "</div>"
            ],
            "text/plain": [
              "                                                  title   type        source  \\\n",
              "287                              Hunter x Hunter (2011)     TV         Manga   \n",
              "666                                      Kimi no Na wa.  Movie      Original   \n",
              "803                                            Gintama°     TV         Manga   \n",
              "839                          3-gatsu no Lion 2nd Season     TV         Manga   \n",
              "1602                   Fullmetal Alchemist: Brotherhood     TV         Manga   \n",
              "1733                               Clannad: After Story     TV  Visual novel   \n",
              "1866                                        Steins;Gate     TV  Visual novel   \n",
              "3519                           Gintama&#039;: Enchousen     TV         Manga   \n",
              "3755                                      Steins;Gate 0     TV  Visual novel   \n",
              "3998                                            Gintama     TV         Manga   \n",
              "4010                                     Koe no Katachi  Movie         Manga   \n",
              "4043                         Owarimonogatari 2nd Season     TV   Light novel   \n",
              "5481                                      Gintama&#039;     TV         Manga   \n",
              "6665                                           Gintama.     TV         Manga   \n",
              "7788                               Ginga Eiyuu Densetsu    OVA         Novel   \n",
              "8087  Gintama Movie 2: Kanketsu-hen - Yorozuya yo Ei...  Movie         Manga   \n",
              "8528                            Dokidoki Little Ooyasan    OVA         Other   \n",
              "\n",
              "      episodes  airing                 studio  score  members  favorites  \n",
              "287        148   False               Madhouse   9.11   720920      64375  \n",
              "666          1   False       CoMix Wave Films   9.19   730076      34912  \n",
              "803         51   False  Bandai Namco Pictures   9.15   198744       5668  \n",
              "839         22   False                  Shaft   9.10    85744       2257  \n",
              "1602        64   False                  Bones   9.25  1199091     106895  \n",
              "1733        24   False        Kyoto Animation   9.01   607387      47380  \n",
              "1866        24   False              White Fox   9.14  1010330      92423  \n",
              "3519        13   False                Sunrise   9.07   123572       1509  \n",
              "3755        23    True              White Fox   9.15   223989       1882  \n",
              "3998       201   False                Sunrise   9.01   459031      33781  \n",
              "4010         1   False        Kyoto Animation   9.04   511915      19815  \n",
              "4043         7   False                  Shaft   9.02   113928       2432  \n",
              "5481        51   False                Sunrise   9.11   215527       4549  \n",
              "6665        12   False  Bandai Namco Pictures   9.02    91695       1237  \n",
              "7788       110   False                Artland   9.11   124993       8567  \n",
              "8087         1   False                Sunrise   9.04   105458       1395  \n",
              "8528         0    True    Collaboration Works   9.52      357         21  "
            ]
          },
          "execution_count": 19,
          "metadata": {},
          "output_type": "execute_result"
        }
      ],
      "source": [
        "df_merge[df_merge.score > 9.0]\n"
      ]
    },
    {
      "cell_type": "markdown",
      "metadata": {
        "id": "reoFwP6RzZak"
      },
      "source": [
        "11. Ahora tu equipo desea analizar a la competencia. Para esto **entrega los 5 estudios de anime con mejor score promedio entre sus animes**."
      ]
    },
    {
      "cell_type": "code",
      "execution_count": 20,
      "metadata": {
        "id": "ZU3fiC7GzZDy"
      },
      "outputs": [
        {
          "data": {
            "text/plain": [
              "studio\n",
              "Odolttogi             7.870000\n",
              "B&amp;T               7.820000\n",
              "Fuji TV               7.730000\n",
              "Studio Rikka          7.688571\n",
              "D &amp; D Pictures    7.635000\n",
              "Name: score, dtype: float64"
            ]
          },
          "execution_count": 20,
          "metadata": {},
          "output_type": "execute_result"
        }
      ],
      "source": [
        "score_medio_por_estudio = df_merge.groupby('studio')['score'].mean()\n",
        "score_medio_por_estudio.sort_values(ascending=False).head()"
      ]
    },
    {
      "cell_type": "markdown",
      "metadata": {
        "id": "byjN8fByPYEt"
      },
      "source": [
        "12. Después de que te preguntaran por los animes que tienen mejor score, se te ocurre crear una columna que indique cuales animes son \"buenos\". Para esto, el área de producto te indica que un \"mal\" anime tiene score bajo 4.0, uno \"intermedio\" tiene score entre 4.0 y 8.0, y uno \"bueno\" tiene score sobre 8.0. **Usa el método apply para crear una nueva columna \"quality\" que tenga como valor \"Malo\", \"Intermedio\" o \"Bueno\" según la definición anterior. Luego, muestra los 5 primeros registros**"
      ]
    },
    {
      "cell_type": "code",
      "execution_count": 21,
      "metadata": {
        "id": "bqQZfSbbPYEt"
      },
      "outputs": [
        {
          "data": {
            "text/html": [
              "<div>\n",
              "<style scoped>\n",
              "    .dataframe tbody tr th:only-of-type {\n",
              "        vertical-align: middle;\n",
              "    }\n",
              "\n",
              "    .dataframe tbody tr th {\n",
              "        vertical-align: top;\n",
              "    }\n",
              "\n",
              "    .dataframe thead th {\n",
              "        text-align: right;\n",
              "    }\n",
              "</style>\n",
              "<table border=\"1\" class=\"dataframe\">\n",
              "  <thead>\n",
              "    <tr style=\"text-align: right;\">\n",
              "      <th></th>\n",
              "      <th>title</th>\n",
              "      <th>type</th>\n",
              "      <th>source</th>\n",
              "      <th>episodes</th>\n",
              "      <th>airing</th>\n",
              "      <th>studio</th>\n",
              "      <th>score</th>\n",
              "      <th>members</th>\n",
              "      <th>favorites</th>\n",
              "      <th>quality</th>\n",
              "    </tr>\n",
              "  </thead>\n",
              "  <tbody>\n",
              "    <tr>\n",
              "      <th>0</th>\n",
              "      <td>Inu x Boku SS</td>\n",
              "      <td>TV</td>\n",
              "      <td>Manga</td>\n",
              "      <td>12</td>\n",
              "      <td>False</td>\n",
              "      <td>David Production</td>\n",
              "      <td>7.63</td>\n",
              "      <td>283882</td>\n",
              "      <td>2809</td>\n",
              "      <td>Intermedio</td>\n",
              "    </tr>\n",
              "    <tr>\n",
              "      <th>1</th>\n",
              "      <td>Seto no Hanayome</td>\n",
              "      <td>TV</td>\n",
              "      <td>Manga</td>\n",
              "      <td>26</td>\n",
              "      <td>False</td>\n",
              "      <td>Gonzo</td>\n",
              "      <td>7.89</td>\n",
              "      <td>204003</td>\n",
              "      <td>2579</td>\n",
              "      <td>Intermedio</td>\n",
              "    </tr>\n",
              "    <tr>\n",
              "      <th>2</th>\n",
              "      <td>Shugo Chara!! Doki</td>\n",
              "      <td>TV</td>\n",
              "      <td>Manga</td>\n",
              "      <td>51</td>\n",
              "      <td>False</td>\n",
              "      <td>Satelight</td>\n",
              "      <td>7.55</td>\n",
              "      <td>70127</td>\n",
              "      <td>802</td>\n",
              "      <td>Intermedio</td>\n",
              "    </tr>\n",
              "    <tr>\n",
              "      <th>3</th>\n",
              "      <td>Princess Tutu</td>\n",
              "      <td>TV</td>\n",
              "      <td>Original</td>\n",
              "      <td>38</td>\n",
              "      <td>False</td>\n",
              "      <td>Hal Film Maker</td>\n",
              "      <td>8.21</td>\n",
              "      <td>93312</td>\n",
              "      <td>3344</td>\n",
              "      <td>Bueno</td>\n",
              "    </tr>\n",
              "    <tr>\n",
              "      <th>4</th>\n",
              "      <td>Bakuman. 3rd Season</td>\n",
              "      <td>TV</td>\n",
              "      <td>Manga</td>\n",
              "      <td>25</td>\n",
              "      <td>False</td>\n",
              "      <td>J.C.Staff</td>\n",
              "      <td>8.67</td>\n",
              "      <td>182765</td>\n",
              "      <td>2082</td>\n",
              "      <td>Bueno</td>\n",
              "    </tr>\n",
              "  </tbody>\n",
              "</table>\n",
              "</div>"
            ],
            "text/plain": [
              "                 title type    source  episodes  airing            studio  \\\n",
              "0        Inu x Boku SS   TV     Manga        12   False  David Production   \n",
              "1     Seto no Hanayome   TV     Manga        26   False             Gonzo   \n",
              "2   Shugo Chara!! Doki   TV     Manga        51   False         Satelight   \n",
              "3        Princess Tutu   TV  Original        38   False    Hal Film Maker   \n",
              "4  Bakuman. 3rd Season   TV     Manga        25   False         J.C.Staff   \n",
              "\n",
              "   score  members  favorites     quality  \n",
              "0   7.63   283882       2809  Intermedio  \n",
              "1   7.89   204003       2579  Intermedio  \n",
              "2   7.55    70127        802  Intermedio  \n",
              "3   8.21    93312       3344       Bueno  \n",
              "4   8.67   182765       2082       Bueno  "
            ]
          },
          "execution_count": 21,
          "metadata": {},
          "output_type": "execute_result"
        }
      ],
      "source": [
        "def categorizar(score):\n",
        "    if score < 4.0:\n",
        "        return \"Malo\"\n",
        "    elif score >=4.0 and score <=8.0:\n",
        "        return \"Intermedio\"\n",
        "    else:\n",
        "        return \"Bueno\"\n",
        "\n",
        "df_merge['quality'] = df_merge['score'].apply(categorizar)\n",
        "df_merge.head()"
      ]
    },
    {
      "cell_type": "markdown",
      "metadata": {
        "id": "Mq6A1U6jPYEt"
      },
      "source": [
        "13. Rodrigo, un miembro del equipo, te dice: \"Si deseamos que la gente nos tenga en sus favoritos, ¿qué tipo de anime deberíamos hacer? Para cada tipo de anime (TV, OVA, Movie, etc) podríamos sumar la cantidad de favoritos, y hacer el tipo de anime que tenga la suma más grande\". Sin embargo, tú te percatas de que **hay un problema con lo que él propone**. ¿Cuál es este problema?"
      ]
    },
    {
      "cell_type": "code",
      "execution_count": 22,
      "metadata": {},
      "outputs": [
        {
          "name": "stdout",
          "output_type": "stream",
          "text": [
            "número de favoritos por tipo: \n",
            " type\n",
            "Movie       286420\n",
            "Music         2961\n",
            "ONA          24894\n",
            "OVA         129971\n",
            "Special      30972\n",
            "TV         4010912\n",
            "Unknown        516\n",
            "Name: favorites, dtype: int64\n",
            "\n",
            "\n",
            "número de animes distintos por tipo: \n",
            " type\n",
            "Movie      1293\n",
            "Music       136\n",
            "ONA         505\n",
            "OVA        1753\n",
            "Special    1339\n",
            "TV         3507\n",
            "Unknown      11\n",
            "Name: title, dtype: int64\n",
            "\n",
            "\n",
            "número de animes con menos favoritos por tipo: \n",
            "\n"
          ]
        },
        {
          "data": {
            "text/html": [
              "<div>\n",
              "<style scoped>\n",
              "    .dataframe tbody tr th:only-of-type {\n",
              "        vertical-align: middle;\n",
              "    }\n",
              "\n",
              "    .dataframe tbody tr th {\n",
              "        vertical-align: top;\n",
              "    }\n",
              "\n",
              "    .dataframe thead th {\n",
              "        text-align: right;\n",
              "    }\n",
              "</style>\n",
              "<table border=\"1\" class=\"dataframe\">\n",
              "  <thead>\n",
              "    <tr style=\"text-align: right;\">\n",
              "      <th></th>\n",
              "      <th>favorites</th>\n",
              "      <th>title</th>\n",
              "      <th>type</th>\n",
              "    </tr>\n",
              "  </thead>\n",
              "  <tbody>\n",
              "    <tr>\n",
              "      <th>8539</th>\n",
              "      <td>0</td>\n",
              "      <td>Usagi to Kame no Koutsuu Anzen</td>\n",
              "      <td>OVA</td>\n",
              "    </tr>\n",
              "    <tr>\n",
              "      <th>8538</th>\n",
              "      <td>0</td>\n",
              "      <td>Mameushi-kun no Koutsuu Anzen</td>\n",
              "      <td>OVA</td>\n",
              "    </tr>\n",
              "    <tr>\n",
              "      <th>8537</th>\n",
              "      <td>0</td>\n",
              "      <td>Namae... Sore wa Moeru Inochi</td>\n",
              "      <td>OVA</td>\n",
              "    </tr>\n",
              "    <tr>\n",
              "      <th>8536</th>\n",
              "      <td>0</td>\n",
              "      <td>Ooi! Adacchii!</td>\n",
              "      <td>OVA</td>\n",
              "    </tr>\n",
              "    <tr>\n",
              "      <th>8534</th>\n",
              "      <td>0</td>\n",
              "      <td>Chara to Otamajakushi Shima</td>\n",
              "      <td>TV</td>\n",
              "    </tr>\n",
              "    <tr>\n",
              "      <th>5958</th>\n",
              "      <td>0</td>\n",
              "      <td>Paris no Isabelle</td>\n",
              "      <td>TV</td>\n",
              "    </tr>\n",
              "    <tr>\n",
              "      <th>5963</th>\n",
              "      <td>0</td>\n",
              "      <td>What&amp;#039;s Michael? (TV)</td>\n",
              "      <td>TV</td>\n",
              "    </tr>\n",
              "    <tr>\n",
              "      <th>5965</th>\n",
              "      <td>0</td>\n",
              "      <td>Nintama Rantarou: Saraba Ninjutsu Gakuen no Dan</td>\n",
              "      <td>Special</td>\n",
              "    </tr>\n",
              "    <tr>\n",
              "      <th>8544</th>\n",
              "      <td>0</td>\n",
              "      <td>Senjou no Valkyria Special</td>\n",
              "      <td>Special</td>\n",
              "    </tr>\n",
              "    <tr>\n",
              "      <th>8483</th>\n",
              "      <td>0</td>\n",
              "      <td>Life: Jinsei no Taisetsu na Toki ni...</td>\n",
              "      <td>ONA</td>\n",
              "    </tr>\n",
              "    <tr>\n",
              "      <th>3751</th>\n",
              "      <td>0</td>\n",
              "      <td>Kumi to Tulip</td>\n",
              "      <td>Movie</td>\n",
              "    </tr>\n",
              "    <tr>\n",
              "      <th>8523</th>\n",
              "      <td>0</td>\n",
              "      <td>Ling Yu 6th Season</td>\n",
              "      <td>ONA</td>\n",
              "    </tr>\n",
              "    <tr>\n",
              "      <th>8482</th>\n",
              "      <td>0</td>\n",
              "      <td>Gomen ne, Mii-chan</td>\n",
              "      <td>OVA</td>\n",
              "    </tr>\n",
              "    <tr>\n",
              "      <th>5949</th>\n",
              "      <td>0</td>\n",
              "      <td>Shi Wan Ge Leng Xiaohua Di 3rd Season</td>\n",
              "      <td>ONA</td>\n",
              "    </tr>\n",
              "    <tr>\n",
              "      <th>5950</th>\n",
              "      <td>0</td>\n",
              "      <td>Eigo de Asobo: Tanken Goblin Tou</td>\n",
              "      <td>TV</td>\n",
              "    </tr>\n",
              "    <tr>\n",
              "      <th>5952</th>\n",
              "      <td>0</td>\n",
              "      <td>Obake no Q-Tarou: Tobidase! Bake Bake Daisakusen</td>\n",
              "      <td>Movie</td>\n",
              "    </tr>\n",
              "    <tr>\n",
              "      <th>8494</th>\n",
              "      <td>0</td>\n",
              "      <td>Kubire 3 Sisters</td>\n",
              "      <td>TV</td>\n",
              "    </tr>\n",
              "    <tr>\n",
              "      <th>8495</th>\n",
              "      <td>0</td>\n",
              "      <td>Ongeki</td>\n",
              "      <td>ONA</td>\n",
              "    </tr>\n",
              "    <tr>\n",
              "      <th>8533</th>\n",
              "      <td>0</td>\n",
              "      <td>Genki Genki Non-tan: Obake Mura Meiro</td>\n",
              "      <td>OVA</td>\n",
              "    </tr>\n",
              "    <tr>\n",
              "      <th>8513</th>\n",
              "      <td>0</td>\n",
              "      <td>Heisei Matsue Kaidan</td>\n",
              "      <td>ONA</td>\n",
              "    </tr>\n",
              "  </tbody>\n",
              "</table>\n",
              "</div>"
            ],
            "text/plain": [
              "      favorites                                             title     type\n",
              "8539          0                    Usagi to Kame no Koutsuu Anzen      OVA\n",
              "8538          0                     Mameushi-kun no Koutsuu Anzen      OVA\n",
              "8537          0                     Namae... Sore wa Moeru Inochi      OVA\n",
              "8536          0                                    Ooi! Adacchii!      OVA\n",
              "8534          0                       Chara to Otamajakushi Shima       TV\n",
              "5958          0                                 Paris no Isabelle       TV\n",
              "5963          0                         What&#039;s Michael? (TV)       TV\n",
              "5965          0   Nintama Rantarou: Saraba Ninjutsu Gakuen no Dan  Special\n",
              "8544          0                        Senjou no Valkyria Special  Special\n",
              "8483          0            Life: Jinsei no Taisetsu na Toki ni...      ONA\n",
              "3751          0                                     Kumi to Tulip    Movie\n",
              "8523          0                                Ling Yu 6th Season      ONA\n",
              "8482          0                                Gomen ne, Mii-chan      OVA\n",
              "5949          0             Shi Wan Ge Leng Xiaohua Di 3rd Season      ONA\n",
              "5950          0                  Eigo de Asobo: Tanken Goblin Tou       TV\n",
              "5952          0  Obake no Q-Tarou: Tobidase! Bake Bake Daisakusen    Movie\n",
              "8494          0                                  Kubire 3 Sisters       TV\n",
              "8495          0                                            Ongeki      ONA\n",
              "8533          0             Genki Genki Non-tan: Obake Mura Meiro      OVA\n",
              "8513          0                              Heisei Matsue Kaidan      ONA"
            ]
          },
          "execution_count": 22,
          "metadata": {},
          "output_type": "execute_result"
        }
      ],
      "source": [
        "df_favoritos = df_merge.groupby('type')['favorites'].sum()\n",
        "print('número de favoritos por tipo: \\n',df_favoritos)\n",
        "print('\\n')\n",
        "df_animes_by_type = df_merge.groupby('type')['title'].nunique()\n",
        "print('número de animes distintos por tipo: \\n',df_animes_by_type)\n",
        "print('\\n')\n",
        "print('número de animes con menos favoritos por tipo: \\n')\n",
        "favoritos_titulo_tipo = df_merge[['favorites','title','type']]\n",
        "favoritos_titulo_tipo.sort_values(by='favorites',  ascending=True).head(20)"
      ]
    },
    {
      "cell_type": "markdown",
      "metadata": {
        "id": "buxgdOzUPYEu"
      },
      "source": [
        "R: Aunque la mayoría de los animes con más favoritos pertenecen al tipo TV, esto no garantiza que crear un anime de ese tipo asegure una gran cantidad de favoritos. Al analizar el dataset, se observa que existen animes de todos los tipos en la lista de los 20 menos favoritos, por lo tanto solo basandose en el tipo de el anime no se puede llegar a la conclusion de que este tendrá muchos favoritos."
      ]
    },
    {
      "cell_type": "markdown",
      "metadata": {
        "id": "ZVxg6JBjPYEu"
      },
      "source": [
        "14. Para mostrarle a Rodrigo el problema con la solución que él propuso, **entrega la cantidad de animes por cada tipo**."
      ]
    },
    {
      "cell_type": "code",
      "execution_count": 23,
      "metadata": {
        "id": "Ery5eUccPYEv"
      },
      "outputs": [
        {
          "data": {
            "text/plain": [
              "type\n",
              "TV         3508\n",
              "OVA        1753\n",
              "Special    1339\n",
              "Movie      1293\n",
              "ONA         505\n",
              "Music       136\n",
              "Unknown      11\n",
              "Name: count, dtype: int64"
            ]
          },
          "execution_count": 23,
          "metadata": {},
          "output_type": "execute_result"
        }
      ],
      "source": [
        "df_merge.value_counts(subset=\"type\")"
      ]
    },
    {
      "cell_type": "markdown",
      "metadata": {
        "id": "n45zk1YVzYNx"
      },
      "source": [
        "15. Tu jefe te dice que tuvo una visión en un sueño, te dice que sabe como hacer el anime más famoso. Quiere hacer un anime de tipo OVA, donde la fuente (columna source) sea Novel. **Entrega las columnas title, members, favorites, y quality de todos los animes que cumplan con estas características**."
      ]
    },
    {
      "cell_type": "code",
      "execution_count": 24,
      "metadata": {
        "id": "sy1OmkRBzn0K"
      },
      "outputs": [
        {
          "data": {
            "text/html": [
              "<div>\n",
              "<style scoped>\n",
              "    .dataframe tbody tr th:only-of-type {\n",
              "        vertical-align: middle;\n",
              "    }\n",
              "\n",
              "    .dataframe tbody tr th {\n",
              "        vertical-align: top;\n",
              "    }\n",
              "\n",
              "    .dataframe thead th {\n",
              "        text-align: right;\n",
              "    }\n",
              "</style>\n",
              "<table border=\"1\" class=\"dataframe\">\n",
              "  <thead>\n",
              "    <tr style=\"text-align: right;\">\n",
              "      <th></th>\n",
              "      <th>title</th>\n",
              "      <th>members</th>\n",
              "      <th>favorites</th>\n",
              "      <th>quality</th>\n",
              "    </tr>\n",
              "  </thead>\n",
              "  <tbody>\n",
              "    <tr>\n",
              "      <th>418</th>\n",
              "      <td>Mobile Suit Gundam Unicorn</td>\n",
              "      <td>52688</td>\n",
              "      <td>1066</td>\n",
              "      <td>Bueno</td>\n",
              "    </tr>\n",
              "    <tr>\n",
              "      <th>605</th>\n",
              "      <td>H. P. Lovecraft&amp;#039;s The Dunwich Horror and ...</td>\n",
              "      <td>2099</td>\n",
              "      <td>4</td>\n",
              "      <td>Intermedio</td>\n",
              "    </tr>\n",
              "    <tr>\n",
              "      <th>894</th>\n",
              "      <td>Ginga Eiyuu Densetsu Gaiden (1999)</td>\n",
              "      <td>10381</td>\n",
              "      <td>15</td>\n",
              "      <td>Bueno</td>\n",
              "    </tr>\n",
              "    <tr>\n",
              "      <th>1599</th>\n",
              "      <td>X Densha de Ikou</td>\n",
              "      <td>1549</td>\n",
              "      <td>8</td>\n",
              "      <td>Intermedio</td>\n",
              "    </tr>\n",
              "    <tr>\n",
              "      <th>1905</th>\n",
              "      <td>The Hakkenden</td>\n",
              "      <td>4982</td>\n",
              "      <td>10</td>\n",
              "      <td>Intermedio</td>\n",
              "    </tr>\n",
              "    <tr>\n",
              "      <th>2568</th>\n",
              "      <td>Kubikiri Cycle: Aoiro Savant to Zaregototsukai</td>\n",
              "      <td>44763</td>\n",
              "      <td>290</td>\n",
              "      <td>Intermedio</td>\n",
              "    </tr>\n",
              "    <tr>\n",
              "      <th>3225</th>\n",
              "      <td>Another: The Other - Inga</td>\n",
              "      <td>110815</td>\n",
              "      <td>113</td>\n",
              "      <td>Intermedio</td>\n",
              "    </tr>\n",
              "    <tr>\n",
              "      <th>3324</th>\n",
              "      <td>Takarajima Memorial: Yuunagi to Yobareta Otoko</td>\n",
              "      <td>749</td>\n",
              "      <td>0</td>\n",
              "      <td>Intermedio</td>\n",
              "    </tr>\n",
              "    <tr>\n",
              "      <th>3339</th>\n",
              "      <td>Big Wars: Kami Utsu Akaki Kouya ni</td>\n",
              "      <td>1810</td>\n",
              "      <td>5</td>\n",
              "      <td>Intermedio</td>\n",
              "    </tr>\n",
              "    <tr>\n",
              "      <th>3388</th>\n",
              "      <td>Lodoss-tou Senki</td>\n",
              "      <td>36070</td>\n",
              "      <td>366</td>\n",
              "      <td>Intermedio</td>\n",
              "    </tr>\n",
              "    <tr>\n",
              "      <th>4065</th>\n",
              "      <td>Fortune Quest: Yo ni mo Shiawase na Boukensha-...</td>\n",
              "      <td>616</td>\n",
              "      <td>0</td>\n",
              "      <td>Intermedio</td>\n",
              "    </tr>\n",
              "    <tr>\n",
              "      <th>4125</th>\n",
              "      <td>Final Fantasy VII: On the Way to a Smile - Epi...</td>\n",
              "      <td>20879</td>\n",
              "      <td>13</td>\n",
              "      <td>Intermedio</td>\n",
              "    </tr>\n",
              "    <tr>\n",
              "      <th>4223</th>\n",
              "      <td>Shingeki no Kyojin: Lost Girls</td>\n",
              "      <td>67254</td>\n",
              "      <td>118</td>\n",
              "      <td>Bueno</td>\n",
              "    </tr>\n",
              "    <tr>\n",
              "      <th>4605</th>\n",
              "      <td>Saber Marionette J Again</td>\n",
              "      <td>8383</td>\n",
              "      <td>20</td>\n",
              "      <td>Intermedio</td>\n",
              "    </tr>\n",
              "    <tr>\n",
              "      <th>4615</th>\n",
              "      <td>Shiawasette Naani</td>\n",
              "      <td>586</td>\n",
              "      <td>0</td>\n",
              "      <td>Intermedio</td>\n",
              "    </tr>\n",
              "    <tr>\n",
              "      <th>4651</th>\n",
              "      <td>Brothers Conflict OVA</td>\n",
              "      <td>14586</td>\n",
              "      <td>18</td>\n",
              "      <td>Intermedio</td>\n",
              "    </tr>\n",
              "    <tr>\n",
              "      <th>4652</th>\n",
              "      <td>Hyouka: Motsubeki Mono wa</td>\n",
              "      <td>87644</td>\n",
              "      <td>96</td>\n",
              "      <td>Intermedio</td>\n",
              "    </tr>\n",
              "    <tr>\n",
              "      <th>5036</th>\n",
              "      <td>Soreyuke! Uchuu Senkan Yamamoto Yohko</td>\n",
              "      <td>2398</td>\n",
              "      <td>2</td>\n",
              "      <td>Intermedio</td>\n",
              "    </tr>\n",
              "    <tr>\n",
              "      <th>5253</th>\n",
              "      <td>Makai Tenshou</td>\n",
              "      <td>4724</td>\n",
              "      <td>6</td>\n",
              "      <td>Intermedio</td>\n",
              "    </tr>\n",
              "    <tr>\n",
              "      <th>5291</th>\n",
              "      <td>Makai Toshi Shinjuku</td>\n",
              "      <td>9392</td>\n",
              "      <td>22</td>\n",
              "      <td>Intermedio</td>\n",
              "    </tr>\n",
              "    <tr>\n",
              "      <th>5448</th>\n",
              "      <td>Soreyuke! Uchuu Senkan Yamamoto Yohko II</td>\n",
              "      <td>1393</td>\n",
              "      <td>0</td>\n",
              "      <td>Intermedio</td>\n",
              "    </tr>\n",
              "    <tr>\n",
              "      <th>5579</th>\n",
              "      <td>Souryuuden</td>\n",
              "      <td>1806</td>\n",
              "      <td>7</td>\n",
              "      <td>Intermedio</td>\n",
              "    </tr>\n",
              "    <tr>\n",
              "      <th>5796</th>\n",
              "      <td>Sengoku Kitan Youtouden</td>\n",
              "      <td>1271</td>\n",
              "      <td>3</td>\n",
              "      <td>Intermedio</td>\n",
              "    </tr>\n",
              "    <tr>\n",
              "      <th>5931</th>\n",
              "      <td>Yumemakura Baku Twilight Gekijou</td>\n",
              "      <td>509</td>\n",
              "      <td>0</td>\n",
              "      <td>Intermedio</td>\n",
              "    </tr>\n",
              "    <tr>\n",
              "      <th>6433</th>\n",
              "      <td>The Hakkenden: Shin Shou</td>\n",
              "      <td>1420</td>\n",
              "      <td>1</td>\n",
              "      <td>Intermedio</td>\n",
              "    </tr>\n",
              "    <tr>\n",
              "      <th>6870</th>\n",
              "      <td>Teito Monogatari</td>\n",
              "      <td>4530</td>\n",
              "      <td>14</td>\n",
              "      <td>Intermedio</td>\n",
              "    </tr>\n",
              "    <tr>\n",
              "      <th>6980</th>\n",
              "      <td>Ginga Eiyuu Densetsu Gaiden</td>\n",
              "      <td>11644</td>\n",
              "      <td>31</td>\n",
              "      <td>Bueno</td>\n",
              "    </tr>\n",
              "    <tr>\n",
              "      <th>7060</th>\n",
              "      <td>Satsujin Kippu wa Heart-iro</td>\n",
              "      <td>365</td>\n",
              "      <td>0</td>\n",
              "      <td>Intermedio</td>\n",
              "    </tr>\n",
              "    <tr>\n",
              "      <th>7664</th>\n",
              "      <td>Sentou Yousei Yukikaze</td>\n",
              "      <td>12077</td>\n",
              "      <td>115</td>\n",
              "      <td>Intermedio</td>\n",
              "    </tr>\n",
              "    <tr>\n",
              "      <th>7788</th>\n",
              "      <td>Ginga Eiyuu Densetsu</td>\n",
              "      <td>124993</td>\n",
              "      <td>8567</td>\n",
              "      <td>Bueno</td>\n",
              "    </tr>\n",
              "    <tr>\n",
              "      <th>7889</th>\n",
              "      <td>Onihei: Sono Otoko, Heizou Hasegawa</td>\n",
              "      <td>2159</td>\n",
              "      <td>1</td>\n",
              "      <td>Intermedio</td>\n",
              "    </tr>\n",
              "  </tbody>\n",
              "</table>\n",
              "</div>"
            ],
            "text/plain": [
              "                                                  title  members  favorites  \\\n",
              "418                          Mobile Suit Gundam Unicorn    52688       1066   \n",
              "605   H. P. Lovecraft&#039;s The Dunwich Horror and ...     2099          4   \n",
              "894                  Ginga Eiyuu Densetsu Gaiden (1999)    10381         15   \n",
              "1599                                   X Densha de Ikou     1549          8   \n",
              "1905                                      The Hakkenden     4982         10   \n",
              "2568     Kubikiri Cycle: Aoiro Savant to Zaregototsukai    44763        290   \n",
              "3225                          Another: The Other - Inga   110815        113   \n",
              "3324     Takarajima Memorial: Yuunagi to Yobareta Otoko      749          0   \n",
              "3339                 Big Wars: Kami Utsu Akaki Kouya ni     1810          5   \n",
              "3388                                   Lodoss-tou Senki    36070        366   \n",
              "4065  Fortune Quest: Yo ni mo Shiawase na Boukensha-...      616          0   \n",
              "4125  Final Fantasy VII: On the Way to a Smile - Epi...    20879         13   \n",
              "4223                     Shingeki no Kyojin: Lost Girls    67254        118   \n",
              "4605                           Saber Marionette J Again     8383         20   \n",
              "4615                                  Shiawasette Naani      586          0   \n",
              "4651                              Brothers Conflict OVA    14586         18   \n",
              "4652                          Hyouka: Motsubeki Mono wa    87644         96   \n",
              "5036              Soreyuke! Uchuu Senkan Yamamoto Yohko     2398          2   \n",
              "5253                                      Makai Tenshou     4724          6   \n",
              "5291                               Makai Toshi Shinjuku     9392         22   \n",
              "5448           Soreyuke! Uchuu Senkan Yamamoto Yohko II     1393          0   \n",
              "5579                                         Souryuuden     1806          7   \n",
              "5796                            Sengoku Kitan Youtouden     1271          3   \n",
              "5931                   Yumemakura Baku Twilight Gekijou      509          0   \n",
              "6433                           The Hakkenden: Shin Shou     1420          1   \n",
              "6870                                   Teito Monogatari     4530         14   \n",
              "6980                        Ginga Eiyuu Densetsu Gaiden    11644         31   \n",
              "7060                        Satsujin Kippu wa Heart-iro      365          0   \n",
              "7664                             Sentou Yousei Yukikaze    12077        115   \n",
              "7788                               Ginga Eiyuu Densetsu   124993       8567   \n",
              "7889                Onihei: Sono Otoko, Heizou Hasegawa     2159          1   \n",
              "\n",
              "         quality  \n",
              "418        Bueno  \n",
              "605   Intermedio  \n",
              "894        Bueno  \n",
              "1599  Intermedio  \n",
              "1905  Intermedio  \n",
              "2568  Intermedio  \n",
              "3225  Intermedio  \n",
              "3324  Intermedio  \n",
              "3339  Intermedio  \n",
              "3388  Intermedio  \n",
              "4065  Intermedio  \n",
              "4125  Intermedio  \n",
              "4223       Bueno  \n",
              "4605  Intermedio  \n",
              "4615  Intermedio  \n",
              "4651  Intermedio  \n",
              "4652  Intermedio  \n",
              "5036  Intermedio  \n",
              "5253  Intermedio  \n",
              "5291  Intermedio  \n",
              "5448  Intermedio  \n",
              "5579  Intermedio  \n",
              "5796  Intermedio  \n",
              "5931  Intermedio  \n",
              "6433  Intermedio  \n",
              "6870  Intermedio  \n",
              "6980       Bueno  \n",
              "7060  Intermedio  \n",
              "7664  Intermedio  \n",
              "7788       Bueno  \n",
              "7889  Intermedio  "
            ]
          },
          "execution_count": 24,
          "metadata": {},
          "output_type": "execute_result"
        }
      ],
      "source": [
        "df = df_merge[(df_merge.type == \"OVA\") & (df_merge.source == \"Novel\")]\n",
        "df[[\"title\", \"members\", \"favorites\",\"quality\"]]"
      ]
    },
    {
      "cell_type": "markdown",
      "metadata": {
        "id": "H-QaCsPzPYEw"
      },
      "source": [
        "16. Para verificar si tu jefe tiene sueños extraños, o si realmente tiene una visión, **calcula y muestra el promedio de los miembros, el promedio de los favoritos, y la categoría de quality más repetida** de los animes obtenidos en la pregunta anterior."
      ]
    },
    {
      "cell_type": "code",
      "execution_count": 25,
      "metadata": {
        "id": "PeAuASNSPYEx"
      },
      "outputs": [
        {
          "name": "stdout",
          "output_type": "stream",
          "text": [
            "Promedio de los miembros: 20791.451612903227\n",
            "Promedio de los favoritos: 351.96774193548384\n",
            "Categoria más repetida: Intermedio\n"
          ]
        }
      ],
      "source": [
        "avg_members = df[\"members\"].mean()\n",
        "print(f\"Promedio de los miembros: {avg_members}\")\n",
        "\n",
        "avg_favoritos = df[\"favorites\"].mean()\n",
        "print(f\"Promedio de los favoritos: {avg_favoritos}\")\n",
        "\n",
        "categoria_repetida = df[\"quality\"].value_counts().idxmax()\n",
        "print(f\"Categoria más repetida: {categoria_repetida}\")"
      ]
    },
    {
      "cell_type": "markdown",
      "metadata": {
        "id": "xkbw4vcNRKEg"
      },
      "source": [
        "# Visualicemos los datos"
      ]
    },
    {
      "cell_type": "markdown",
      "metadata": {
        "id": "SUdmMgMYRUhi"
      },
      "source": [
        "17. Muestre el histograma de todas las puntuaciones de animes"
      ]
    },
    {
      "cell_type": "code",
      "execution_count": 26,
      "metadata": {
        "id": "TgB3MS58SU7r"
      },
      "outputs": [
        {
          "data": {
            "text/plain": [
              "array([[<Axes: title={'center': 'score'}>]], dtype=object)"
            ]
          },
          "execution_count": 26,
          "metadata": {},
          "output_type": "execute_result"
        },
        {
          "data": {
            "image/png": "[encoded data removed]",
            "text/plain": [
              "<Figure size 640x480 with 1 Axes>"
            ]
          },
          "metadata": {},
          "output_type": "display_data"
        }
      ],
      "source": [
        "df_merge.hist(column=\"score\", bins = 100)"
      ]
    },
    {
      "cell_type": "markdown",
      "metadata": {
        "id": "tVDvUZK1SUi2"
      },
      "source": [
        "18. Muestre la densidad de puntajes para los principales tipos de anime (TV, OVA, Movie)"
      ]
    },
    {
      "cell_type": "code",
      "execution_count": 32,
      "metadata": {
        "id": "MSm5_YoWToLA"
      },
      "outputs": [
        {
          "data": {
            "text/plain": [
              "<matplotlib.legend.Legend at 0x21125d7df90>"
            ]
          },
          "execution_count": 32,
          "metadata": {},
          "output_type": "execute_result"
        },
        {
          "data": {
            "image/png": "[encoded data removed]",
            "text/plain": [
              "<Figure size 1000x600 with 1 Axes>"
            ]
          },
          "metadata": {},
          "output_type": "display_data"
        }
      ],
      "source": [
        "from scipy import stats\n",
        "\n",
        "scores_ova = df_merge[(df_merge.type == \"OVA\")]\n",
        "scores_ova = scores_ova[\"score\"]\n",
        "\n",
        "scores_movies = df_merge[(df_merge.type == \"Movie\")]\n",
        "scores_movies = scores_movies[\"score\"]\n",
        "\n",
        "scores_tv = df_merge[(df_merge.type == \"TV\")]\n",
        "scores_tv = scores_tv[\"score\"]\n",
        "\n",
        "density_ova = stats.gaussian_kde(scores_ova)\n",
        "density_movies = stats.gaussian_kde(scores_movies)\n",
        "density_tv = stats.gaussian_kde(scores_tv)\n",
        "\n",
        "xs_ova = np.linspace(scores_ova.min(), scores_ova.max(), 200)\n",
        "xs_tv = np.linspace(scores_tv.min(), scores_tv.max(), 200)\n",
        "xs_movies = np.linspace(scores_movies.min(), scores_movies.max(), 200)\n",
        "\n",
        "density_ova_values = density_ova(xs_ova)\n",
        "density_movie_values = density_movies(xs_movies)\n",
        "density_tv_values = density_tv(xs_tv)\n",
        "\n",
        "plt.figure(figsize=(10, 6))\n",
        "plt.plot(xs_ova, density_ova_values, linewidth=2, label=\"OVA\")\n",
        "plt.plot(xs_movies, density_movie_values, linewidth=2, label=\"Movies\")\n",
        "plt.plot(xs_tv, density_tv_values, linewidth=2, label=\"TV\")\n",
        "plt.xlabel(\"Score\")\n",
        "plt.ylabel(\"Densidad\")\n",
        "plt.title(\"Densidad de puntajes por tipo de anime\")\n",
        "plt.legend()\n",
        "\n",
        "\n"
      ]
    },
    {
      "cell_type": "markdown",
      "metadata": {
        "id": "CcwK9kniTo_r"
      },
      "source": [
        "19. ¿Cuál tipo de anime es más exitoso? ¿Se está tomando en cuenta la cantidad de animes por tipo al afirmar eso?"
      ]
    },
    {
      "cell_type": "code",
      "execution_count": 33,
      "metadata": {},
      "outputs": [
        {
          "data": {
            "text/plain": [
              "<matplotlib.legend.Legend at 0x21127fed590>"
            ]
          },
          "execution_count": 33,
          "metadata": {},
          "output_type": "execute_result"
        },
        {
          "data": {
            "image/png": "[encoded data removed]",
            "text/plain": [
              "<Figure size 1000x600 with 1 Axes>"
            ]
          },
          "metadata": {},
          "output_type": "display_data"
        },
        {
          "data": {
            "image/png": "[encoded data removed]",
            "text/plain": [
              "<Figure size 1000x600 with 1 Axes>"
            ]
          },
          "metadata": {},
          "output_type": "display_data"
        },
        {
          "data": {
            "image/png": "[encoded data removed]",
            "text/plain": [
              "<Figure size 1000x600 with 1 Axes>"
            ]
          },
          "metadata": {},
          "output_type": "display_data"
        }
      ],
      "source": [
        "from scipy import stats\n",
        "\n",
        "favorites_ova = df_merge[(df_merge.type == \"OVA\")]\n",
        "favorites_ova = favorites_ova[\"favorites\"]\n",
        "\n",
        "favorites_movies = df_merge[(df_merge.type == \"Movie\")]\n",
        "favorites_movies = favorites_movies[\"favorites\"]\n",
        "\n",
        "favorites_tv = df_merge[(df_merge.type == \"TV\")]\n",
        "favorites_tv = favorites_tv[\"favorites\"]\n",
        "\n",
        "total_tv, total_movies, total_ova = favorites_tv.sum(), favorites_movies.sum(), favorites_ova.sum()\n",
        "\n",
        "total = total_tv + total_movies + total_ova\n",
        "\n",
        "favorites_tv = favorites_tv.div(total)\n",
        "favorites_ova = favorites_ova.div(total)\n",
        "favorites_movies = favorites_movies.div(total)\n",
        "\n",
        "density_ova = stats.gaussian_kde(favorites_ova)\n",
        "density_movies = stats.gaussian_kde(favorites_movies)\n",
        "density_tv = stats.gaussian_kde(favorites_tv)\n",
        "\n",
        "xs_ova = np.linspace(0, 1, 200)\n",
        "xs_tv = np.linspace(0,1, 200)\n",
        "xs_movies = np.linspace(0,1, 200)\n",
        "\n",
        "density_ova_values = density_ova(xs_ova)\n",
        "density_movie_values = density_movies(xs_movies)\n",
        "density_tv_values = density_tv(xs_tv)\n",
        "\n",
        "plt.figure(figsize=(10, 6))\n",
        "plt.plot(xs_ova, density_ova_values, linewidth=2, label=\"OVA\")\n",
        "plt.xlabel(\"Favorites\")\n",
        "plt.ylabel(\"Densidad\")\n",
        "plt.title(\"Densidad de favoritos por tipo de anime\")\n",
        "plt.legend()\n",
        "\n",
        "\n",
        "plt.figure(figsize=(10, 6))\n",
        "plt.plot(xs_movies, density_movie_values, linewidth=2, label=\"Movies\")\n",
        "plt.xlabel(\"Favorites\")\n",
        "plt.ylabel(\"Densidad\")\n",
        "plt.title(\"Densidad de favoritos por tipo de anime\")\n",
        "plt.legend()\n",
        "\n",
        "\n",
        "plt.figure(figsize=(10, 6))\n",
        "plt.plot(xs_tv, density_tv_values, linewidth=2, label=\"TV\")\n",
        "plt.xlabel(\"Favorites\")\n",
        "plt.ylabel(\"Densidad\")\n",
        "plt.title(\"Densidad de favoritos por tipo de anime\")\n",
        "plt.legend()"
      ]
    },
    {
      "cell_type": "markdown",
      "metadata": {
        "id": "zjyA38rqVBC0"
      },
      "source": [
        "R: Al analizar las gráficas obtenidas en la pregunta anterior, se observa que la densidad de las películas presenta un puntaje superior en comparación con la densidad de los demás animes. Por lo tanto, si basamos el éxito de un anime basado en la crítica obtenemos que el tipo de anime más exitoso corresponde a las películas. En este análisis se considera la cantidad de animes por tipo y su score. Luego si consideramos el éxito basado en favoritos notamos que son pocos los animes que consiguen un alto valor en favoritos. La mayoría de los animes tienen pocos favoritos y representan una curva similar, sin embargo aquel que destaca son los animes de TV donde no concentra tantos como los demás tipos al inicio (con pocos favoritos)."
      ]
    },
    {
      "cell_type": "markdown",
      "metadata": {
        "id": "0AcGLVkczvU1"
      },
      "source": [
        "Y eso es todo por hoy :)\n"
      ]
    },
    {
      "cell_type": "markdown",
      "metadata": {
        "id": "rR_plUgOz2kN"
      },
      "source": [
        "![](https://i.imgur.com/ghKLs78.jpeg)"
      ]
    }
  ],
  "metadata": {
    "colab": {
      "provenance": []
    },
    "kernelspec": {
      "display_name": "venv",
      "language": "python",
      "name": "python3"
    },
    "language_info": {
      "codemirror_mode": {
        "name": "ipython",
        "version": 3
      },
      "file_extension": ".py",
      "mimetype": "text/x-python",
      "name": "python",
      "nbconvert_exporter": "python",
      "pygments_lexer": "ipython3",
      "version": "3.13.1"
    }
  },
  "nbformat": 4,
  "nbformat_minor": 0
}
