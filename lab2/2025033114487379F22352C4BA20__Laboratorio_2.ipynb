{
 "cells": [
  {
   "cell_type": "markdown",
   "metadata": {
    "id": "-CnSaU7yuHuo"
   },
   "source": [
    "# Laboratorio 2: Exploración y Visualización de Datos\n",
    "Fecha: Marzo 2025\n",
    "\n",
    "Integrantes: **AGREGUEN SUS NOMBRES COMPLETOS** y la sección de cada integrante\n"
   ]
  },
  {
   "cell_type": "markdown",
   "metadata": {
    "id": "DAB7Kb-fuwH4"
   },
   "source": [
    "## Instrucciones\n",
    "\n",
    "1.  Trabajen en equipos de dos personas. Salvo excepciones, no se corregirá entregas con menos de dos integrantes.\n",
    "\n",
    "2.  Modifique este archivo `.ipynb` agregando sus respuestas donde corresponda. Puede ocupar Jupyter notebook en su computador o usar Google Colab como alternativa online.\n",
    "\n",
    "3.  Para cada pregunta **incluya el código fuente que utilizó para llegar a su respuesta. Respuestas sin código no recibirán puntaje.**.\n",
    "\n",
    "4.  El formato de entrega para esta actividad es un archivo **html**. **Genere un archivo HTML usando Jupyter** y súbalo a U-Cursos. Basta con que un/a integrante haga la entrega. Si ambos/as hacen una entrega en U-Cursos, se revisará cualquiera de éstas."
   ]
  },
  {
   "cell_type": "markdown",
   "metadata": {
    "id": "aOoASC9ywZ3D"
   },
   "source": [
    "## Accidentes de tránsito\n",
    "\n",
    "Para esta sección utilizaremos un dataset real de número de accidentes de tránsito por localidad, el cual puede ser encontrado en el siguiente link: http://datos.gob.cl/dataset/9348. Para cargar el dataset ejecute el siguiente código:"
   ]
  },
  {
   "cell_type": "code",
   "execution_count": 13,
   "metadata": {
    "executionInfo": {
     "elapsed": 843,
     "status": "ok",
     "timestamp": 1712534555648,
     "user": {
      "displayName": "Paola López Neira",
      "userId": "03316898995144701450"
     },
     "user_tz": 240
    },
    "id": "G9hcgQxIvRa0"
   },
   "outputs": [],
   "source": [
    "import pandas as pd\n",
    "import matplotlib.pyplot as plt\n",
    "import numpy as np"
   ]
  },
  {
   "cell_type": "code",
   "execution_count": 2,
   "metadata": {
    "colab": {
     "base_uri": "https://localhost:8080/",
     "height": 206
    },
    "executionInfo": {
     "elapsed": 1438,
     "status": "ok",
     "timestamp": 1712534558873,
     "user": {
      "displayName": "Paola López Neira",
      "userId": "03316898995144701450"
     },
     "user_tz": 240
    },
    "id": "dj1JzlHhvRa1",
    "outputId": "6612c014-c9d8-4db8-e9a2-e81248edc0e6"
   },
   "outputs": [
    {
     "data": {
      "text/html": [
       "<div>\n",
       "<style scoped>\n",
       "    .dataframe tbody tr th:only-of-type {\n",
       "        vertical-align: middle;\n",
       "    }\n",
       "\n",
       "    .dataframe tbody tr th {\n",
       "        vertical-align: top;\n",
       "    }\n",
       "\n",
       "    .dataframe thead th {\n",
       "        text-align: right;\n",
       "    }\n",
       "</style>\n",
       "<table border=\"1\" class=\"dataframe\">\n",
       "  <thead>\n",
       "    <tr style=\"text-align: right;\">\n",
       "      <th></th>\n",
       "      <th>Muestra</th>\n",
       "      <th>Descripcion</th>\n",
       "      <th>Anio</th>\n",
       "      <th>TipoAccidente</th>\n",
       "      <th>Cantidad</th>\n",
       "    </tr>\n",
       "  </thead>\n",
       "  <tbody>\n",
       "    <tr>\n",
       "      <th>1</th>\n",
       "      <td>Nacional</td>\n",
       "      <td>Nacional</td>\n",
       "      <td>2010</td>\n",
       "      <td>Atropello</td>\n",
       "      <td>8247</td>\n",
       "    </tr>\n",
       "    <tr>\n",
       "      <th>2</th>\n",
       "      <td>Nacional</td>\n",
       "      <td>Nacional</td>\n",
       "      <td>2011</td>\n",
       "      <td>Atropello</td>\n",
       "      <td>8339</td>\n",
       "    </tr>\n",
       "    <tr>\n",
       "      <th>3</th>\n",
       "      <td>Regional</td>\n",
       "      <td>XV Región Arica y Parinacota</td>\n",
       "      <td>2010</td>\n",
       "      <td>Atropello</td>\n",
       "      <td>115</td>\n",
       "    </tr>\n",
       "    <tr>\n",
       "      <th>4</th>\n",
       "      <td>Regional</td>\n",
       "      <td>XV Región Arica y Parinacota</td>\n",
       "      <td>2011</td>\n",
       "      <td>Atropello</td>\n",
       "      <td>159</td>\n",
       "    </tr>\n",
       "    <tr>\n",
       "      <th>5</th>\n",
       "      <td>Comunal</td>\n",
       "      <td>ARICA</td>\n",
       "      <td>2010</td>\n",
       "      <td>Atropello</td>\n",
       "      <td>115</td>\n",
       "    </tr>\n",
       "  </tbody>\n",
       "</table>\n",
       "</div>"
      ],
      "text/plain": [
       "    Muestra                   Descripcion  Anio TipoAccidente  Cantidad\n",
       "1  Nacional                      Nacional  2010     Atropello      8247\n",
       "2  Nacional                      Nacional  2011     Atropello      8339\n",
       "3  Regional  XV Región Arica y Parinacota  2010     Atropello       115\n",
       "4  Regional  XV Región Arica y Parinacota  2011     Atropello       159\n",
       "5   Comunal                         ARICA  2010     Atropello       115"
      ]
     },
     "execution_count": 2,
     "metadata": {},
     "output_type": "execute_result"
    }
   ],
   "source": [
    "tipos = pd.read_csv(\"https://users.dcc.uchile.cl/~hsarmien/mineria/datasets/accidentes_2010_2011.txt\", sep=\" \")\n",
    "tipos.head()"
   ]
  },
  {
   "cell_type": "markdown",
   "metadata": {
    "id": "Rl6U5eR7vRa1"
   },
   "source": [
    "Explore el set de datos para responder las siguientes preguntas:"
   ]
  },
  {
   "cell_type": "markdown",
   "metadata": {
    "id": "wRhwgcqivRa1"
   },
   "source": [
    "1. ¿Cuáles son las dimensiones del dataset (filas, columnas)?"
   ]
  },
  {
   "cell_type": "code",
   "execution_count": 4,
   "metadata": {
    "id": "NcpxQuAUvRa2"
   },
   "outputs": [
    {
     "name": "stdout",
     "output_type": "stream",
     "text": [
      "Columnas: 5\n",
      "Filas: 4296\n"
     ]
    }
   ],
   "source": [
    "rows, columns = tipos.shape\n",
    "print(f\"Columnas: {columns}\")\n",
    "print(f\"Filas: {rows}\")"
   ]
  },
  {
   "cell_type": "markdown",
   "metadata": {
    "id": "j2QRGMhjvRa2"
   },
   "source": [
    "2. ¿Qué describe cada línea del dataset? (ejemplifique tomando el dato de la fila 235, extienda la descripción)"
   ]
  },
  {
   "cell_type": "code",
   "execution_count": 6,
   "metadata": {
    "colab": {
     "base_uri": "https://localhost:8080/"
    },
    "executionInfo": {
     "elapsed": 313,
     "status": "ok",
     "timestamp": 1712463070708,
     "user": {
      "displayName": "Paola López Neira",
      "userId": "03316898995144701450"
     },
     "user_tz": 240
    },
    "id": "ok_Xj8iPvRa2",
    "outputId": "1a73f83e-344c-4b5d-f8c9-5dfa132e0056"
   },
   "outputs": [
    {
     "data": {
      "text/plain": [
       "Muestra            Comunal\n",
       "Descripcion       PALMILLA\n",
       "Anio                  2011\n",
       "TipoAccidente    Atropello\n",
       "Cantidad                 6\n",
       "Name: 236, dtype: object"
      ]
     },
     "execution_count": 6,
     "metadata": {},
     "output_type": "execute_result"
    }
   ],
   "source": [
    "tipos.iloc[235]"
   ]
  },
  {
   "cell_type": "markdown",
   "metadata": {
    "id": "PT05GYXHvRa2"
   },
   "source": [
    "3. ¿Cuántos años diferentes abarca la información del dataset? Entregue un array con los años.\n"
   ]
  },
  {
   "cell_type": "code",
   "execution_count": 15,
   "metadata": {
    "id": "eytl6jGgvRa2"
   },
   "outputs": [
    {
     "name": "stdout",
     "output_type": "stream",
     "text": [
      "Son solo: 2 años y son [2010 2011]\n"
     ]
    }
   ],
   "source": [
    "\n",
    "array = tipos['Anio'].to_numpy()\n",
    "x = np.unique(array)\n",
    "print(f\"Son solo: {len(x)} años y son {x}\")\n"
   ]
  },
  {
   "cell_type": "markdown",
   "metadata": {
    "id": "JZd73AXPvRa2"
   },
   "source": [
    "4. Filtre los datos para incluir sólo los accidentes ocurridos el año 2011 a nivel Regional. Luego, genere un gráfico de barras que muestre la cantidad de accidentes en cada Región. Comente sus principales observaciones y si considera que es razonable usar el conteo de frecuencias para determinar las regiones más peligrosas en cuanto a accidentes de tránsito.\n",
    "\n",
    "    **OJO**: hay que sumar la cantidad de accidentes para los distintos tipos de accidente de una misma región"
   ]
  },
  {
   "cell_type": "code",
   "execution_count": null,
   "metadata": {
    "colab": {
     "base_uri": "https://localhost:8080/",
     "height": 542
    },
    "executionInfo": {
     "elapsed": 300,
     "status": "ok",
     "timestamp": 1712541906344,
     "user": {
      "displayName": "Paola López Neira",
      "userId": "03316898995144701450"
     },
     "user_tz": 240
    },
    "id": "oJD0bg9avRa3",
    "outputId": "1284721a-d45b-495c-c7f7-25155d849621"
   },
   "outputs": [],
   "source": []
  },
  {
   "cell_type": "markdown",
   "metadata": {
    "id": "uUBo8p8mvRa3"
   },
   "source": [
    "R:"
   ]
  },
  {
   "cell_type": "markdown",
   "metadata": {
    "id": "Ra9DCuIkvRa3"
   },
   "source": [
    "5. Filtre los datos para incluir sólo los accidentes ocurridos el año 2010 a nivel regional. Genere un boxplot donde se indique la cantidad de accidentes categorizado por tipo de accidente. ¿Cuáles son sus principales observaciones?"
   ]
  },
  {
   "cell_type": "code",
   "execution_count": null,
   "metadata": {
    "colab": {
     "base_uri": "https://localhost:8080/",
     "height": 542
    },
    "executionInfo": {
     "elapsed": 264,
     "status": "ok",
     "timestamp": 1712541957697,
     "user": {
      "displayName": "Paola López Neira",
      "userId": "03316898995144701450"
     },
     "user_tz": 240
    },
    "id": "XRG9EsOfvRa3",
    "outputId": "69410dba-1390-4c73-a200-411be31ca300"
   },
   "outputs": [],
   "source": []
  },
  {
   "cell_type": "markdown",
   "metadata": {
    "id": "YcdoU9_OvRa3"
   },
   "source": [
    "6. ¿Qué otra forma de explorar los datos podría agregar para el dataset de Accidentes de tránsito y qué información adicional aporta? Adjunte el código necesario."
   ]
  },
  {
   "cell_type": "code",
   "execution_count": null,
   "metadata": {
    "colab": {
     "base_uri": "https://localhost:8080/",
     "height": 542
    },
    "executionInfo": {
     "elapsed": 335,
     "status": "ok",
     "timestamp": 1712541513693,
     "user": {
      "displayName": "Paola López Neira",
      "userId": "03316898995144701450"
     },
     "user_tz": 240
    },
    "id": "PWSB-k0-vRa3",
    "outputId": "2d8e2f6f-7b73-41ae-bd2a-d9211849bb18"
   },
   "outputs": [],
   "source": []
  },
  {
   "cell_type": "markdown",
   "metadata": {},
   "source": []
  },
  {
   "cell_type": "markdown",
   "metadata": {
    "id": "tMTcXnfSvRa3"
   },
   "source": [
    "## Diabetes\n",
    "Considere el set de datos de pacientes para la predicción de diabetes con las siguientes columnas:\n",
    "\n",
    "- gender: género del paciente\n",
    "- age: edad del paciente\n",
    "- hypertension: indica si el paciente tiene o no hipertensión\n",
    "- heart_disease: indica si el paciente tiene o no enfermedad cardiaca\n",
    "- smoking_history: indica si el paciente es o fue fumador\n",
    "- bmi: indice de masa corporal del paciente\n",
    "- HbA1c_level: Hemoglobina HbA1c del paciente\n",
    "- blood_glucose_level: Nivel de glucosa en sangre del paciente\n",
    "- diabetes: si el paciente tiene o no diabetes"
   ]
  },
  {
   "cell_type": "code",
   "execution_count": 10,
   "metadata": {
    "id": "_S1MRV5ZvRa3",
    "outputId": "b2a65957-ba31-48b5-d4e6-61d2f767595a"
   },
   "outputs": [
    {
     "data": {
      "text/html": [
       "<div>\n",
       "<style scoped>\n",
       "    .dataframe tbody tr th:only-of-type {\n",
       "        vertical-align: middle;\n",
       "    }\n",
       "\n",
       "    .dataframe tbody tr th {\n",
       "        vertical-align: top;\n",
       "    }\n",
       "\n",
       "    .dataframe thead th {\n",
       "        text-align: right;\n",
       "    }\n",
       "</style>\n",
       "<table border=\"1\" class=\"dataframe\">\n",
       "  <thead>\n",
       "    <tr style=\"text-align: right;\">\n",
       "      <th></th>\n",
       "      <th>gender</th>\n",
       "      <th>age</th>\n",
       "      <th>hypertension</th>\n",
       "      <th>heart_disease</th>\n",
       "      <th>smoking_history</th>\n",
       "      <th>bmi</th>\n",
       "      <th>HbA1c_level</th>\n",
       "      <th>blood_glucose_level</th>\n",
       "      <th>diabetes</th>\n",
       "    </tr>\n",
       "  </thead>\n",
       "  <tbody>\n",
       "    <tr>\n",
       "      <th>0</th>\n",
       "      <td>Female</td>\n",
       "      <td>80.0</td>\n",
       "      <td>0</td>\n",
       "      <td>1</td>\n",
       "      <td>never</td>\n",
       "      <td>25.19</td>\n",
       "      <td>6.6</td>\n",
       "      <td>140</td>\n",
       "      <td>0</td>\n",
       "    </tr>\n",
       "    <tr>\n",
       "      <th>1</th>\n",
       "      <td>Female</td>\n",
       "      <td>54.0</td>\n",
       "      <td>0</td>\n",
       "      <td>0</td>\n",
       "      <td>No Info</td>\n",
       "      <td>27.32</td>\n",
       "      <td>6.6</td>\n",
       "      <td>80</td>\n",
       "      <td>0</td>\n",
       "    </tr>\n",
       "    <tr>\n",
       "      <th>2</th>\n",
       "      <td>Male</td>\n",
       "      <td>28.0</td>\n",
       "      <td>0</td>\n",
       "      <td>0</td>\n",
       "      <td>never</td>\n",
       "      <td>27.32</td>\n",
       "      <td>5.7</td>\n",
       "      <td>158</td>\n",
       "      <td>0</td>\n",
       "    </tr>\n",
       "    <tr>\n",
       "      <th>3</th>\n",
       "      <td>Female</td>\n",
       "      <td>36.0</td>\n",
       "      <td>0</td>\n",
       "      <td>0</td>\n",
       "      <td>current</td>\n",
       "      <td>23.45</td>\n",
       "      <td>5.0</td>\n",
       "      <td>155</td>\n",
       "      <td>0</td>\n",
       "    </tr>\n",
       "    <tr>\n",
       "      <th>4</th>\n",
       "      <td>Male</td>\n",
       "      <td>76.0</td>\n",
       "      <td>1</td>\n",
       "      <td>1</td>\n",
       "      <td>current</td>\n",
       "      <td>20.14</td>\n",
       "      <td>4.8</td>\n",
       "      <td>155</td>\n",
       "      <td>0</td>\n",
       "    </tr>\n",
       "  </tbody>\n",
       "</table>\n",
       "</div>"
      ],
      "text/plain": [
       "   gender   age  hypertension  heart_disease smoking_history    bmi  \\\n",
       "0  Female  80.0             0              1           never  25.19   \n",
       "1  Female  54.0             0              0         No Info  27.32   \n",
       "2    Male  28.0             0              0           never  27.32   \n",
       "3  Female  36.0             0              0         current  23.45   \n",
       "4    Male  76.0             1              1         current  20.14   \n",
       "\n",
       "   HbA1c_level  blood_glucose_level  diabetes  \n",
       "0          6.6                  140         0  \n",
       "1          6.6                   80         0  \n",
       "2          5.7                  158         0  \n",
       "3          5.0                  155         0  \n",
       "4          4.8                  155         0  "
      ]
     },
     "execution_count": 10,
     "metadata": {},
     "output_type": "execute_result"
    }
   ],
   "source": [
    "diabetes = pd.read_csv(\"https://raw.githubusercontent.com/mzambrano1/Datasets-CC5205-otono-2023/master/lab1.2%202023-2/diabetes_prediction_dataset.csv\")\n",
    "diabetes.head()"
   ]
  },
  {
   "cell_type": "markdown",
   "metadata": {
    "id": "b-mswQKJvRa3"
   },
   "source": [
    "7. Para explorar el dataset, realice un análisis de frecuencias de los atributos categóricos (categorías binarias y multiclase).\n",
    "\n"
   ]
  },
  {
   "cell_type": "code",
   "execution_count": null,
   "metadata": {
    "id": "f-Q5gED1vRa4"
   },
   "outputs": [],
   "source": []
  },
  {
   "cell_type": "code",
   "execution_count": null,
   "metadata": {
    "id": "v9shtv91vRa4"
   },
   "outputs": [],
   "source": []
  },
  {
   "cell_type": "markdown",
   "metadata": {
    "id": "OSYhWauUvRa4"
   },
   "source": [
    "8. Muestre estadísticas de resumen para las variables numéricas y comenten sus observaciones."
   ]
  },
  {
   "cell_type": "code",
   "execution_count": null,
   "metadata": {
    "id": "bk10zYQSvRa4"
   },
   "outputs": [],
   "source": []
  },
  {
   "cell_type": "markdown",
   "metadata": {},
   "source": [
    "# Clasificación"
   ]
  },
  {
   "cell_type": "markdown",
   "metadata": {},
   "source": [
    "Ahora crearemos un clasificador binario (por ahora no importa cómo funciona), y veremos que tal es su desempeño decidiendo si una persona tiene diabetes o no."
   ]
  },
  {
   "cell_type": "code",
   "execution_count": 15,
   "metadata": {},
   "outputs": [],
   "source": [
    "from sklearn.tree import DecisionTreeClassifier\n",
    "from sklearn.model_selection import train_test_split\n",
    "\n",
    "# Droppear categoricas\n",
    "df_clf = diabetes.drop(columns=['gender', 'smoking_history'])\n",
    "# Separar atributos y target\n",
    "X = df_clf.drop(columns=['diabetes'])\n",
    "y = df_clf['diabetes']\n",
    "# Separar conjuntos de entrenamiento y test\n",
    "X_train, X_test, y_train, y_test = train_test_split(X, y, test_size=0.2, random_state=0)\n",
    "# Entrenar modelo\n",
    "clf = DecisionTreeClassifier(max_depth=3, random_state=0)\n",
    "clf.fit(X_train, y_train)\n",
    "# Obtener predicciones\n",
    "y_pred = clf.predict(X_test)"
   ]
  },
  {
   "cell_type": "markdown",
   "metadata": {},
   "source": [
    "### Veamos su matríz de confusión"
   ]
  },
  {
   "cell_type": "code",
   "execution_count": 12,
   "metadata": {},
   "outputs": [
    {
     "data": {
      "image/png": "[encoded data removed]",
      "text/plain": [
       "<Figure size 640x480 with 2 Axes>"
      ]
     },
     "metadata": {},
     "output_type": "display_data"
    }
   ],
   "source": [
    "from sklearn.metrics import confusion_matrix, ConfusionMatrixDisplay\n",
    "\n",
    "cm = confusion_matrix(y_test, y_pred)\n",
    "\n",
    "disp = ConfusionMatrixDisplay(confusion_matrix=cm, display_labels=['Sin diabetes', 'Diabetes'])\n",
    "disp.plot(cmap='Blues')\n",
    "plt.title('Matríz de Confusión')\n",
    "plt.show()"
   ]
  },
  {
   "cell_type": "markdown",
   "metadata": {},
   "source": [
    "9. ¿Qué se puede decir a partir de la matriz de confusión? ¿El clasificador tiene un problema asociado a precision o recall?"
   ]
  },
  {
   "cell_type": "markdown",
   "metadata": {},
   "source": [
    "R: "
   ]
  },
  {
   "cell_type": "markdown",
   "metadata": {},
   "source": [
    "### Curva ROC 🤘"
   ]
  },
  {
   "cell_type": "code",
   "execution_count": 13,
   "metadata": {},
   "outputs": [
    {
     "data": {
      "image/png": "[encoded data removed]",
      "text/plain": [
       "<Figure size 640x480 with 1 Axes>"
      ]
     },
     "metadata": {},
     "output_type": "display_data"
    }
   ],
   "source": [
    "from sklearn.metrics import roc_curve, auc\n",
    "\n",
    "y_scores = clf.predict_proba(X_test)[:,1]\n",
    "fpr, tpr, _ = roc_curve(y_test, y_scores)\n",
    "roc_auc = auc(fpr, tpr)\n",
    "\n",
    "plt.plot(fpr, tpr, color='blue', lw=2, label=f'ROC curve (AUC = {roc_auc:.2f})')\n",
    "plt.plot([0, 1], [0, 1], color='gray', linestyle='--')  # Identidad\n",
    "plt.xlabel('False Positive Rate')\n",
    "plt.ylabel('True Positive Rate')\n",
    "plt.title('Curva ROC')\n",
    "plt.legend(loc=\"lower right\")\n",
    "plt.show()"
   ]
  },
  {
   "cell_type": "markdown",
   "metadata": {},
   "source": [
    "10. ¿Podemos decir que el modelo es bueno según su curva ROC? ¿Para que podemos usar esta visualización?"
   ]
  },
  {
   "cell_type": "markdown",
   "metadata": {},
   "source": [
    "R: "
   ]
  },
  {
   "cell_type": "markdown",
   "metadata": {},
   "source": [
    "11. ¿Sería seguro usar este clasificador en un caso real diagnosicando pacientes?"
   ]
  },
  {
   "cell_type": "markdown",
   "metadata": {},
   "source": [
    "R:"
   ]
  },
  {
   "cell_type": "markdown",
   "metadata": {
    "id": "0AcGLVkczvU1"
   },
   "source": [
    "Y eso es todo por hoy :)\n"
   ]
  }
 ],
 "metadata": {
  "colab": {
   "provenance": []
  },
  "kernelspec": {
   "display_name": "venv",
   "language": "python",
   "name": "python3"
  },
  "language_info": {
   "codemirror_mode": {
    "name": "ipython",
    "version": 3
   },
   "file_extension": ".py",
   "mimetype": "text/x-python",
   "name": "python",
   "nbconvert_exporter": "python",
   "pygments_lexer": "ipython3",
   "version": "3.13.1"
  }
 },
 "nbformat": 4,
 "nbformat_minor": 0
}
